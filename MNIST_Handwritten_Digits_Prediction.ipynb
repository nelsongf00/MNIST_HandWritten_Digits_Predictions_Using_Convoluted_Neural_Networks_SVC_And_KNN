{
  "cells": [
    {
      "cell_type": "markdown",
      "metadata": {
        "id": "view-in-github",
        "colab_type": "text"
      },
      "source": [
        "<a href=\"https://colab.research.google.com/github/nelsongf00/MNIST_HandWritten_Digits_Predictions_Using_Convoluted_Neural_Networks_SVC_And_KNN/blob/main/MNIST_Handwritten_Digits_Prediction.ipynb\" target=\"_parent\"><img src=\"https://colab.research.google.com/assets/colab-badge.svg\" alt=\"Open In Colab\"/></a>"
      ]
    },
    {
      "cell_type": "markdown",
      "id": "ed325348",
      "metadata": {
        "id": "ed325348"
      },
      "source": [
        "PRCP-1002-Handwritten Digits Recognition"
      ]
    },
    {
      "cell_type": "markdown",
      "id": "67508b6d",
      "metadata": {
        "id": "67508b6d"
      },
      "source": [
        "# MNIST Handwritten Digit Recognition Using Classification Models"
      ]
    },
    {
      "cell_type": "markdown",
      "id": "aba63058",
      "metadata": {
        "id": "aba63058"
      },
      "source": [
        "## Domain Analysis"
      ]
    },
    {
      "cell_type": "markdown",
      "id": "639450cd",
      "metadata": {
        "id": "639450cd"
      },
      "source": [
        "MNIST (\"Modified National Institute of Standards and Technology\") is the de facto “hello world” dataset of computer vision. Since its release in 1999, this classic dataset of handwritten images has served as the basis for benchmarking classification algorithms. As new machine learning techniques emerge, MNIST remains a reliable resource for researchers and learners alike."
      ]
    },
    {
      "cell_type": "markdown",
      "id": "fb7f362c",
      "metadata": {
        "id": "fb7f362c"
      },
      "source": [
        "## The Goal of this project"
      ]
    },
    {
      "cell_type": "markdown",
      "id": "f949b9f5",
      "metadata": {
        "id": "f949b9f5"
      },
      "source": [
        "The goal is to build a classifier model to better predict the MNIST dataset which is a multi-class classification dataset. We will be building a Convoluted Neural Network to predict previously unseen images and also, we will experiment with other classification models like Support Vector Machines (SVM) and K-Nearest Neighbor (KNN). Finally, we will compare all three models and see which model outperforms others."
      ]
    },
    {
      "cell_type": "markdown",
      "id": "7cee80c6",
      "metadata": {
        "id": "7cee80c6"
      },
      "source": [
        "#### Importing the basic libraries "
      ]
    },
    {
      "cell_type": "code",
      "execution_count": null,
      "id": "7cc6fe11",
      "metadata": {
        "id": "7cc6fe11"
      },
      "outputs": [],
      "source": [
        "import tensorflow\n",
        "import keras\n",
        "import pandas as pd\n",
        "import numpy as np\n",
        "import matplotlib.pyplot as plt\n",
        "%matplotlib inline"
      ]
    },
    {
      "cell_type": "markdown",
      "id": "b5d1b931",
      "metadata": {
        "id": "b5d1b931"
      },
      "source": [
        "#### Importing the MNIST dataset and storing it in train and test data "
      ]
    },
    {
      "cell_type": "code",
      "execution_count": null,
      "id": "8bfbbb4d",
      "metadata": {
        "id": "8bfbbb4d",
        "colab": {
          "base_uri": "https://localhost:8080/"
        },
        "outputId": "84a28d78-8acf-492f-fa4f-b4bd1040324f"
      },
      "outputs": [
        {
          "output_type": "stream",
          "name": "stdout",
          "text": [
            "Downloading data from https://storage.googleapis.com/tensorflow/tf-keras-datasets/mnist.npz\n",
            "11490434/11490434 [==============================] - 2s 0us/step\n"
          ]
        }
      ],
      "source": [
        "from tensorflow.keras.datasets import mnist\n",
        "(x_train, y_train), (x_test, y_test) = mnist.load_data()\n"
      ]
    },
    {
      "cell_type": "markdown",
      "id": "47dd0d60",
      "metadata": {
        "id": "47dd0d60"
      },
      "source": [
        "## Basic Checks"
      ]
    },
    {
      "cell_type": "code",
      "execution_count": null,
      "id": "6388f808",
      "metadata": {
        "colab": {
          "base_uri": "https://localhost:8080/"
        },
        "id": "6388f808",
        "outputId": "447e3462-5fc7-4801-f17e-b6c15fe84d75",
        "scrolled": true
      },
      "outputs": [
        {
          "output_type": "execute_result",
          "data": {
            "text/plain": [
              "(60000, 28, 28)"
            ]
          },
          "metadata": {},
          "execution_count": 3
        }
      ],
      "source": [
        "x_train.shape"
      ]
    },
    {
      "cell_type": "markdown",
      "id": "6d539827",
      "metadata": {
        "id": "6d539827"
      },
      "source": [
        "Here we have a training data of 60000 images of 28 by 28 pixels"
      ]
    },
    {
      "cell_type": "code",
      "execution_count": null,
      "id": "7a0cb99d",
      "metadata": {
        "colab": {
          "base_uri": "https://localhost:8080/"
        },
        "id": "7a0cb99d",
        "outputId": "174c0170-6d5c-4533-b9d6-1ebbed5930df",
        "scrolled": false
      },
      "outputs": [
        {
          "output_type": "execute_result",
          "data": {
            "text/plain": [
              "(10000, 28, 28)"
            ]
          },
          "metadata": {},
          "execution_count": 4
        }
      ],
      "source": [
        "x_test.shape"
      ]
    },
    {
      "cell_type": "markdown",
      "id": "ce0ca6be",
      "metadata": {
        "id": "ce0ca6be"
      },
      "source": [
        "Here we have a testing data of 10000 images of 28 by 28 pixels"
      ]
    },
    {
      "cell_type": "markdown",
      "id": "4d72e243",
      "metadata": {
        "id": "4d72e243"
      },
      "source": [
        "**Visualizing the first 48 images in our training data**"
      ]
    },
    {
      "cell_type": "code",
      "execution_count": null,
      "id": "5317df3f",
      "metadata": {
        "colab": {
          "base_uri": "https://localhost:8080/",
          "height": 515
        },
        "id": "5317df3f",
        "outputId": "8cfa6dbe-2200-4beb-fbca-c783abd672c7",
        "scrolled": true
      },
      "outputs": [
        {
          "output_type": "display_data",
          "data": {
            "text/plain": [
              "<Figure size 1440x504 with 48 Axes>"
            ],
            "image/png": "[encoded data removed]"
          },
          "metadata": {}
        }
      ],
      "source": [
        "fig = plt.figure(figsize=(20,7))\n",
        "for i in range(48):\n",
        "    ax = fig.add_subplot(4, 12, i + 1, xticks=[], yticks=[])\n",
        "    ax.imshow(x_train[i], cmap='gray')\n",
        "    ax.set_title(str(y_train[i]), fontsize=20)\n",
        "plt.tight_layout()"
      ]
    },
    {
      "cell_type": "markdown",
      "id": "39e3116c",
      "metadata": {
        "id": "39e3116c"
      },
      "source": [
        "## Data Preprocessing"
      ]
    },
    {
      "cell_type": "markdown",
      "id": "36432ea6",
      "metadata": {
        "id": "36432ea6"
      },
      "source": [
        "We need to make our image dataset ready for our model, as such we require some data preprocessing steps to ensure it is ready to be fed in the model"
      ]
    },
    {
      "cell_type": "markdown",
      "id": "9842f803",
      "metadata": {
        "id": "9842f803"
      },
      "source": [
        "#### One Hot Encoding our output data"
      ]
    },
    {
      "cell_type": "code",
      "execution_count": null,
      "id": "1f449961",
      "metadata": {
        "id": "1f449961"
      },
      "outputs": [],
      "source": [
        "from tensorflow.keras.utils import to_categorical"
      ]
    },
    {
      "cell_type": "code",
      "execution_count": null,
      "id": "d8537aac",
      "metadata": {
        "id": "d8537aac"
      },
      "outputs": [],
      "source": [
        "num_classes = len(np.unique(y_train))"
      ]
    },
    {
      "cell_type": "code",
      "execution_count": null,
      "id": "a1cd6e8d",
      "metadata": {
        "colab": {
          "base_uri": "https://localhost:8080/"
        },
        "id": "a1cd6e8d",
        "outputId": "5a17352e-0789-4260-c12f-d9bc0591b019"
      },
      "outputs": [
        {
          "output_type": "execute_result",
          "data": {
            "text/plain": [
              "(60000,)"
            ]
          },
          "metadata": {},
          "execution_count": 8
        }
      ],
      "source": [
        "y_train.shape"
      ]
    },
    {
      "cell_type": "code",
      "execution_count": null,
      "id": "c8457297",
      "metadata": {
        "id": "c8457297"
      },
      "outputs": [],
      "source": [
        "y_cat_train = to_categorical(y_train,num_classes)"
      ]
    },
    {
      "cell_type": "code",
      "execution_count": null,
      "id": "d464e239",
      "metadata": {
        "colab": {
          "base_uri": "https://localhost:8080/"
        },
        "id": "d464e239",
        "outputId": "786e229f-94c0-426d-e668-b1cec9b82156"
      },
      "outputs": [
        {
          "output_type": "execute_result",
          "data": {
            "text/plain": [
              "(60000, 10)"
            ]
          },
          "metadata": {},
          "execution_count": 10
        }
      ],
      "source": [
        "y_cat_train.shape"
      ]
    },
    {
      "cell_type": "code",
      "execution_count": null,
      "id": "9982c951",
      "metadata": {
        "colab": {
          "base_uri": "https://localhost:8080/"
        },
        "id": "9982c951",
        "outputId": "b7faeb7e-2959-4885-d575-8589712b4b9a"
      },
      "outputs": [
        {
          "output_type": "execute_result",
          "data": {
            "text/plain": [
              "(10000,)"
            ]
          },
          "metadata": {},
          "execution_count": 11
        }
      ],
      "source": [
        "y_test.shape"
      ]
    },
    {
      "cell_type": "code",
      "execution_count": null,
      "id": "0d9ed0c6",
      "metadata": {
        "id": "0d9ed0c6"
      },
      "outputs": [],
      "source": [
        "y_cat_test = to_categorical(y_test,num_classes)"
      ]
    },
    {
      "cell_type": "code",
      "execution_count": null,
      "id": "99186cd5",
      "metadata": {
        "colab": {
          "base_uri": "https://localhost:8080/"
        },
        "id": "99186cd5",
        "outputId": "8cb9cb48-765b-490a-b718-ed18b87a5928"
      },
      "outputs": [
        {
          "output_type": "execute_result",
          "data": {
            "text/plain": [
              "(10000, 10)"
            ]
          },
          "metadata": {},
          "execution_count": 13
        }
      ],
      "source": [
        "y_cat_test.shape"
      ]
    },
    {
      "cell_type": "markdown",
      "id": "b0f1275d",
      "metadata": {
        "id": "b0f1275d"
      },
      "source": [
        "#### Normalizing our input data"
      ]
    },
    {
      "cell_type": "markdown",
      "id": "95c01f2d",
      "metadata": {
        "id": "95c01f2d"
      },
      "source": [
        "We need to scale our data so that when it is fed into the ML model, it can be processed faster.\n",
        "\n",
        "This normalization makes it easier for the model to learn from the data, as it puts all the features on the same scale and prevents any one feature from having too much influence on the model's predictions."
      ]
    },
    {
      "cell_type": "code",
      "execution_count": null,
      "id": "20815504",
      "metadata": {
        "id": "20815504"
      },
      "outputs": [],
      "source": [
        "x_train = x_train.astype('float32')/255\n",
        "x_test = x_test.astype('float32')/255"
      ]
    },
    {
      "cell_type": "markdown",
      "id": "b0f12521",
      "metadata": {
        "id": "b0f12521"
      },
      "source": [
        "#### Reshaping our data"
      ]
    },
    {
      "cell_type": "code",
      "execution_count": null,
      "id": "a3d607d4",
      "metadata": {
        "id": "a3d607d4"
      },
      "outputs": [],
      "source": [
        "x_train = x_train.reshape(60000,28,28,1)"
      ]
    },
    {
      "cell_type": "code",
      "execution_count": null,
      "id": "29432cb6",
      "metadata": {
        "colab": {
          "base_uri": "https://localhost:8080/"
        },
        "id": "29432cb6",
        "outputId": "efe4becf-1422-4c6b-afa4-27603448e01c"
      },
      "outputs": [
        {
          "output_type": "stream",
          "name": "stdout",
          "text": [
            "(60000, 28, 28, 1)\n"
          ]
        }
      ],
      "source": [
        "print(x_train.shape)"
      ]
    },
    {
      "cell_type": "code",
      "execution_count": null,
      "id": "4cda298d",
      "metadata": {
        "id": "4cda298d"
      },
      "outputs": [],
      "source": [
        "x_test = x_test.reshape(10000,28,28,1)"
      ]
    },
    {
      "cell_type": "code",
      "execution_count": null,
      "id": "c0794429",
      "metadata": {
        "colab": {
          "base_uri": "https://localhost:8080/"
        },
        "id": "c0794429",
        "outputId": "b44bc771-5f0e-4efb-9db4-55bda4b71fa1"
      },
      "outputs": [
        {
          "output_type": "stream",
          "name": "stdout",
          "text": [
            "(10000, 28, 28, 1)\n"
          ]
        }
      ],
      "source": [
        "print(x_test.shape)"
      ]
    },
    {
      "cell_type": "markdown",
      "id": "64495c1a",
      "metadata": {
        "id": "64495c1a"
      },
      "source": [
        "#### Split the data into training and validation sets"
      ]
    },
    {
      "cell_type": "code",
      "execution_count": null,
      "id": "b333cb59",
      "metadata": {
        "id": "b333cb59"
      },
      "outputs": [],
      "source": [
        "from sklearn.model_selection import train_test_split\n",
        "(x_train, x_val, y_cat_train, y_val) = train_test_split(x_train, y_cat_train, test_size=10000, random_state=42,shuffle=True)"
      ]
    },
    {
      "cell_type": "code",
      "execution_count": null,
      "id": "5a741f22",
      "metadata": {
        "colab": {
          "base_uri": "https://localhost:8080/"
        },
        "id": "5a741f22",
        "outputId": "3309a6cd-d0f2-41ce-d2ea-a13c5b076dd4"
      },
      "outputs": [
        {
          "output_type": "stream",
          "name": "stdout",
          "text": [
            "50000 train samples\n",
            "10000 test samples\n",
            "10000 validation samples\n"
          ]
        }
      ],
      "source": [
        "print(x_train.shape[0], 'train samples')\n",
        "print(x_test.shape[0], 'test samples')\n",
        "print(x_val.shape[0], 'validation samples')"
      ]
    },
    {
      "cell_type": "markdown",
      "id": "41b2a50d",
      "metadata": {
        "id": "41b2a50d"
      },
      "source": [
        "## Building a Convoluted Neural Network Model to predict MNIST dataset"
      ]
    },
    {
      "cell_type": "code",
      "execution_count": null,
      "id": "78c0baf8",
      "metadata": {
        "id": "78c0baf8"
      },
      "outputs": [],
      "source": [
        "from keras.models import Sequential\n",
        "from keras.layers import Conv2D, MaxPooling2D, Flatten, Dense, Dropout\n",
        "\n",
        "model = Sequential()\n",
        "model.add(Conv2D(filters=16, kernel_size=2, padding='same', activation='relu', \n",
        "                        input_shape=(28, 28, 1)))\n",
        "model.add(MaxPooling2D(pool_size=2))\n",
        "\n",
        "model.add(Conv2D(filters=32, kernel_size=2, padding='same', activation='relu'))\n",
        "model.add(MaxPooling2D(pool_size=2))\n",
        "\n",
        "model.add(Conv2D(filters=64, kernel_size=2, padding='same', activation='relu'))\n",
        "model.add(MaxPooling2D(pool_size=2))\n",
        "model.add(Dropout(0.3))\n",
        "\n",
        "model.add(Flatten())\n",
        "model.add(Dense(500, activation='relu'))\n",
        "\n",
        "model.add(Dropout(0.4))\n",
        "model.add(Dense(10, activation='softmax'))\n",
        "\n",
        "model.compile(loss = 'categorical_crossentropy',\n",
        "             optimizer = 'adam',\n",
        "             metrics = ['accuracy'])"
      ]
    },
    {
      "cell_type": "markdown",
      "id": "dc801ea6",
      "metadata": {
        "id": "dc801ea6"
      },
      "source": [
        "Here we have added multiple convolutional layers with increasing number of filters, which is a good approach for increasing the model's capacity to learn complex features. \n",
        "\n",
        "We have also added max pooling layers after each convolutional layer to reduce the spatial dimensions and control overfitting.\n",
        "\n",
        "The dropout layers added after the max pooling layers also help in preventing overfitting. \n",
        "\n",
        "The final output layer has 10 units as we are trying to classify 10 different classes."
      ]
    },
    {
      "cell_type": "markdown",
      "id": "0b7dc05d",
      "metadata": {
        "id": "0b7dc05d"
      },
      "source": [
        "#### Early stopping"
      ]
    },
    {
      "cell_type": "markdown",
      "id": "0d4b8d0d",
      "metadata": {
        "id": "0d4b8d0d"
      },
      "source": [
        "Early stopping is a technique used to prevent overfitting in neural networks. It is used to terminate the training process of a neural network before it reaches the maximum number of epochs defined. The idea behind early stopping is to monitor the performance of the network on a validation dataset, and stop the training process when the performance on the validation set starts to decrease or degrade. This is because, as the training process continues, the model starts to overfit the training data and performs worse on unseen data such as validation set. By using early stopping, we can prevent the model from overfitting and achieve better generalization."
      ]
    },
    {
      "cell_type": "code",
      "execution_count": null,
      "id": "b0472a98",
      "metadata": {
        "id": "b0472a98"
      },
      "outputs": [],
      "source": [
        "from tensorflow.keras.callbacks import EarlyStopping\n",
        "early_stop = EarlyStopping(monitor = 'val_loss',patience=2)"
      ]
    },
    {
      "cell_type": "code",
      "execution_count": null,
      "id": "0c9457f6",
      "metadata": {
        "colab": {
          "base_uri": "https://localhost:8080/"
        },
        "id": "0c9457f6",
        "outputId": "f062563f-2aeb-4159-e2f6-1502f9290775",
        "scrolled": true
      },
      "outputs": [
        {
          "output_type": "stream",
          "name": "stdout",
          "text": [
            "Epoch 1/20\n",
            "1563/1563 [==============================] - 21s 8ms/step - loss: 0.2442 - accuracy: 0.9214 - val_loss: 0.0664 - val_accuracy: 0.9800\n",
            "Epoch 2/20\n",
            "1563/1563 [==============================] - 11s 7ms/step - loss: 0.0950 - accuracy: 0.9702 - val_loss: 0.0657 - val_accuracy: 0.9794\n",
            "Epoch 3/20\n",
            "1563/1563 [==============================] - 7s 4ms/step - loss: 0.0728 - accuracy: 0.9769 - val_loss: 0.0467 - val_accuracy: 0.9859\n",
            "Epoch 4/20\n",
            "1563/1563 [==============================] - 7s 4ms/step - loss: 0.0611 - accuracy: 0.9809 - val_loss: 0.0329 - val_accuracy: 0.9905\n",
            "Epoch 5/20\n",
            "1563/1563 [==============================] - 7s 5ms/step - loss: 0.0542 - accuracy: 0.9825 - val_loss: 0.0416 - val_accuracy: 0.9868\n",
            "Epoch 6/20\n",
            "1563/1563 [==============================] - 7s 5ms/step - loss: 0.0478 - accuracy: 0.9843 - val_loss: 0.0304 - val_accuracy: 0.9904\n",
            "Epoch 7/20\n",
            "1563/1563 [==============================] - 7s 5ms/step - loss: 0.0425 - accuracy: 0.9862 - val_loss: 0.0317 - val_accuracy: 0.9903\n",
            "Epoch 8/20\n",
            "1563/1563 [==============================] - 7s 4ms/step - loss: 0.0402 - accuracy: 0.9863 - val_loss: 0.0341 - val_accuracy: 0.9911\n"
          ]
        },
        {
          "output_type": "execute_result",
          "data": {
            "text/plain": [
              "<keras.callbacks.History at 0x7f6a201ab9a0>"
            ]
          },
          "metadata": {},
          "execution_count": 23
        }
      ],
      "source": [
        "model.fit(x_train,y_cat_train,epochs = 20,callbacks=[early_stop],validation_data=(x_val,y_val))"
      ]
    },
    {
      "cell_type": "markdown",
      "id": "93ba598a",
      "metadata": {
        "id": "93ba598a"
      },
      "source": [
        "## Evaluating Our Model"
      ]
    },
    {
      "cell_type": "code",
      "execution_count": null,
      "id": "40aa599c",
      "metadata": {
        "colab": {
          "base_uri": "https://localhost:8080/",
          "height": 300
        },
        "id": "40aa599c",
        "outputId": "4ef1df3a-12e6-4505-b4ec-f07eb7cf5228"
      },
      "outputs": [
        {
          "output_type": "execute_result",
          "data": {
            "text/plain": [
              "       loss  accuracy  val_loss  val_accuracy\n",
              "0  0.244158   0.92136  0.066410        0.9800\n",
              "1  0.094956   0.97024  0.065663        0.9794\n",
              "2  0.072761   0.97686  0.046714        0.9859\n",
              "3  0.061102   0.98092  0.032864        0.9905\n",
              "4  0.054168   0.98246  0.041642        0.9868\n",
              "5  0.047784   0.98430  0.030391        0.9904\n",
              "6  0.042511   0.98624  0.031682        0.9903\n",
              "7  0.040203   0.98632  0.034068        0.9911"
            ],
            "text/html": [
              "\n",
              "  <div id=\"df-dbdc2ce7-d3c4-4551-a98d-15a0720a0d9c\">\n",
              "    <div class=\"colab-df-container\">\n",
              "      <div>\n",
              "<style scoped>\n",
              "    .dataframe tbody tr th:only-of-type {\n",
              "        vertical-align: middle;\n",
              "    }\n",
              "\n",
              "    .dataframe tbody tr th {\n",
              "        vertical-align: top;\n",
              "    }\n",
              "\n",
              "    .dataframe thead th {\n",
              "        text-align: right;\n",
              "    }\n",
              "</style>\n",
              "<table border=\"1\" class=\"dataframe\">\n",
              "  <thead>\n",
              "    <tr style=\"text-align: right;\">\n",
              "      <th></th>\n",
              "      <th>loss</th>\n",
              "      <th>accuracy</th>\n",
              "      <th>val_loss</th>\n",
              "      <th>val_accuracy</th>\n",
              "    </tr>\n",
              "  </thead>\n",
              "  <tbody>\n",
              "    <tr>\n",
              "      <th>0</th>\n",
              "      <td>0.244158</td>\n",
              "      <td>0.92136</td>\n",
              "      <td>0.066410</td>\n",
              "      <td>0.9800</td>\n",
              "    </tr>\n",
              "    <tr>\n",
              "      <th>1</th>\n",
              "      <td>0.094956</td>\n",
              "      <td>0.97024</td>\n",
              "      <td>0.065663</td>\n",
              "      <td>0.9794</td>\n",
              "    </tr>\n",
              "    <tr>\n",
              "      <th>2</th>\n",
              "      <td>0.072761</td>\n",
              "      <td>0.97686</td>\n",
              "      <td>0.046714</td>\n",
              "      <td>0.9859</td>\n",
              "    </tr>\n",
              "    <tr>\n",
              "      <th>3</th>\n",
              "      <td>0.061102</td>\n",
              "      <td>0.98092</td>\n",
              "      <td>0.032864</td>\n",
              "      <td>0.9905</td>\n",
              "    </tr>\n",
              "    <tr>\n",
              "      <th>4</th>\n",
              "      <td>0.054168</td>\n",
              "      <td>0.98246</td>\n",
              "      <td>0.041642</td>\n",
              "      <td>0.9868</td>\n",
              "    </tr>\n",
              "    <tr>\n",
              "      <th>5</th>\n",
              "      <td>0.047784</td>\n",
              "      <td>0.98430</td>\n",
              "      <td>0.030391</td>\n",
              "      <td>0.9904</td>\n",
              "    </tr>\n",
              "    <tr>\n",
              "      <th>6</th>\n",
              "      <td>0.042511</td>\n",
              "      <td>0.98624</td>\n",
              "      <td>0.031682</td>\n",
              "      <td>0.9903</td>\n",
              "    </tr>\n",
              "    <tr>\n",
              "      <th>7</th>\n",
              "      <td>0.040203</td>\n",
              "      <td>0.98632</td>\n",
              "      <td>0.034068</td>\n",
              "      <td>0.9911</td>\n",
              "    </tr>\n",
              "  </tbody>\n",
              "</table>\n",
              "</div>\n",
              "      <button class=\"colab-df-convert\" onclick=\"convertToInteractive('df-dbdc2ce7-d3c4-4551-a98d-15a0720a0d9c')\"\n",
              "              title=\"Convert this dataframe to an interactive table.\"\n",
              "              style=\"display:none;\">\n",
              "        \n",
              "  <svg xmlns=\"http://www.w3.org/2000/svg\" height=\"24px\"viewBox=\"0 0 24 24\"\n",
              "       width=\"24px\">\n",
              "    <path d=\"M0 0h24v24H0V0z\" fill=\"none\"/>\n",
              "    <path d=\"M18.56 5.44l.94 2.06.94-2.06 2.06-.94-2.06-.94-.94-2.06-.94 2.06-2.06.94zm-11 1L8.5 8.5l.94-2.06 2.06-.94-2.06-.94L8.5 2.5l-.94 2.06-2.06.94zm10 10l.94 2.06.94-2.06 2.06-.94-2.06-.94-.94-2.06-.94 2.06-2.06.94z\"/><path d=\"M17.41 7.96l-1.37-1.37c-.4-.4-.92-.59-1.43-.59-.52 0-1.04.2-1.43.59L10.3 9.45l-7.72 7.72c-.78.78-.78 2.05 0 2.83L4 21.41c.39.39.9.59 1.41.59.51 0 1.02-.2 1.41-.59l7.78-7.78 2.81-2.81c.8-.78.8-2.07 0-2.86zM5.41 20L4 18.59l7.72-7.72 1.47 1.35L5.41 20z\"/>\n",
              "  </svg>\n",
              "      </button>\n",
              "      \n",
              "  <style>\n",
              "    .colab-df-container {\n",
              "      display:flex;\n",
              "      flex-wrap:wrap;\n",
              "      gap: 12px;\n",
              "    }\n",
              "\n",
              "    .colab-df-convert {\n",
              "      background-color: #E8F0FE;\n",
              "      border: none;\n",
              "      border-radius: 50%;\n",
              "      cursor: pointer;\n",
              "      display: none;\n",
              "      fill: #1967D2;\n",
              "      height: 32px;\n",
              "      padding: 0 0 0 0;\n",
              "      width: 32px;\n",
              "    }\n",
              "\n",
              "    .colab-df-convert:hover {\n",
              "      background-color: #E2EBFA;\n",
              "      box-shadow: 0px 1px 2px rgba(60, 64, 67, 0.3), 0px 1px 3px 1px rgba(60, 64, 67, 0.15);\n",
              "      fill: #174EA6;\n",
              "    }\n",
              "\n",
              "    [theme=dark] .colab-df-convert {\n",
              "      background-color: #3B4455;\n",
              "      fill: #D2E3FC;\n",
              "    }\n",
              "\n",
              "    [theme=dark] .colab-df-convert:hover {\n",
              "      background-color: #434B5C;\n",
              "      box-shadow: 0px 1px 3px 1px rgba(0, 0, 0, 0.15);\n",
              "      filter: drop-shadow(0px 1px 2px rgba(0, 0, 0, 0.3));\n",
              "      fill: #FFFFFF;\n",
              "    }\n",
              "  </style>\n",
              "\n",
              "      <script>\n",
              "        const buttonEl =\n",
              "          document.querySelector('#df-dbdc2ce7-d3c4-4551-a98d-15a0720a0d9c button.colab-df-convert');\n",
              "        buttonEl.style.display =\n",
              "          google.colab.kernel.accessAllowed ? 'block' : 'none';\n",
              "\n",
              "        async function convertToInteractive(key) {\n",
              "          const element = document.querySelector('#df-dbdc2ce7-d3c4-4551-a98d-15a0720a0d9c');\n",
              "          const dataTable =\n",
              "            await google.colab.kernel.invokeFunction('convertToInteractive',\n",
              "                                                     [key], {});\n",
              "          if (!dataTable) return;\n",
              "\n",
              "          const docLinkHtml = 'Like what you see? Visit the ' +\n",
              "            '<a target=\"_blank\" href=https://colab.research.google.com/notebooks/data_table.ipynb>data table notebook</a>'\n",
              "            + ' to learn more about interactive tables.';\n",
              "          element.innerHTML = '';\n",
              "          dataTable['output_type'] = 'display_data';\n",
              "          await google.colab.output.renderOutput(dataTable, element);\n",
              "          const docLink = document.createElement('div');\n",
              "          docLink.innerHTML = docLinkHtml;\n",
              "          element.appendChild(docLink);\n",
              "        }\n",
              "      </script>\n",
              "    </div>\n",
              "  </div>\n",
              "  "
            ]
          },
          "metadata": {},
          "execution_count": 24
        }
      ],
      "source": [
        "metrics = pd.DataFrame(model.history.history)\n",
        "metrics"
      ]
    },
    {
      "cell_type": "markdown",
      "id": "3d8554b2",
      "metadata": {
        "id": "3d8554b2"
      },
      "source": [
        "**Comparing our training and validation loss & accuracy:**\n",
        "\n",
        "Here we can see that the validation accuracy is very close to the training accuracy, indicating that the model is likely not overfitting. \n",
        "\n",
        "Additionally, the validation loss is decreasing over time, which is a good sign that the model is generalizing well.\n",
        "\n",
        "Moreover we have ensured early stopping & dropout mechanism to prevent overfitting."
      ]
    },
    {
      "cell_type": "code",
      "execution_count": null,
      "id": "8cd2497f",
      "metadata": {
        "colab": {
          "base_uri": "https://localhost:8080/",
          "height": 295
        },
        "id": "8cd2497f",
        "outputId": "b0e07439-f062-4819-da48-002d34960e51"
      },
      "outputs": [
        {
          "output_type": "display_data",
          "data": {
            "text/plain": [
              "<Figure size 432x288 with 1 Axes>"
            ],
            "image/png": "[encoded data removed]"
          },
          "metadata": {
            "needs_background": "light"
          }
        }
      ],
      "source": [
        "plt.plot(model.history.history['loss'])\n",
        "plt.plot(model.history.history['val_loss'])\n",
        "plt.title('Model loss')\n",
        "plt.ylabel('Loss')\n",
        "plt.xlabel('Epoch')\n",
        "plt.legend(['Train', 'Validation'], loc='best')\n",
        "plt.show()"
      ]
    },
    {
      "cell_type": "markdown",
      "id": "c0205e3c",
      "metadata": {
        "id": "c0205e3c"
      },
      "source": [
        "Here we can see that the train data and validation data are starting to level off at the epochs"
      ]
    },
    {
      "cell_type": "code",
      "execution_count": null,
      "id": "c8e168f6",
      "metadata": {
        "colab": {
          "base_uri": "https://localhost:8080/",
          "height": 295
        },
        "id": "c8e168f6",
        "outputId": "bfa82dc0-b56a-4d81-e782-e752684beb21"
      },
      "outputs": [
        {
          "output_type": "display_data",
          "data": {
            "text/plain": [
              "<Figure size 432x288 with 1 Axes>"
            ],
            "image/png": "[encoded data removed]"
          },
          "metadata": {
            "needs_background": "light"
          }
        }
      ],
      "source": [
        "plt.plot(model.history.history['accuracy'], label='Training')\n",
        "plt.plot(model.history.history['val_accuracy'], label='Validation')\n",
        "plt.title('Model accuracy')\n",
        "plt.ylabel('Accuracy')\n",
        "plt.xlabel('Epoch')\n",
        "plt.legend()\n",
        "plt.show()"
      ]
    },
    {
      "cell_type": "markdown",
      "id": "7faf60e2",
      "metadata": {
        "id": "7faf60e2"
      },
      "source": [
        "#### Evaluating the model on test data"
      ]
    },
    {
      "cell_type": "code",
      "execution_count": null,
      "id": "27bf04f4",
      "metadata": {
        "id": "27bf04f4"
      },
      "outputs": [],
      "source": [
        "score = model.evaluate(x_test,y_cat_test,verbose=0)"
      ]
    },
    {
      "cell_type": "code",
      "execution_count": null,
      "id": "8408d9a8",
      "metadata": {
        "colab": {
          "base_uri": "https://localhost:8080/"
        },
        "id": "8408d9a8",
        "outputId": "93899e97-598e-4acb-f660-2a9e45fa058c"
      },
      "outputs": [
        {
          "output_type": "stream",
          "name": "stdout",
          "text": [
            "Test loss: 0.030829116702079773 / Test accuracy: 0.9909999966621399\n"
          ]
        }
      ],
      "source": [
        "print(f'Test loss: {score[0]} / Test accuracy: {score[1]}')"
      ]
    },
    {
      "cell_type": "markdown",
      "id": "39d08910",
      "metadata": {
        "id": "39d08910"
      },
      "source": [
        "#### Precision,Recall and F1-Score"
      ]
    },
    {
      "cell_type": "code",
      "execution_count": null,
      "id": "eb2a7ce5",
      "metadata": {
        "colab": {
          "base_uri": "https://localhost:8080/"
        },
        "id": "eb2a7ce5",
        "outputId": "4a77e266-3632-471c-d594-79b746d841cf"
      },
      "outputs": [
        {
          "output_type": "stream",
          "name": "stdout",
          "text": [
            "313/313 [==============================] - 1s 2ms/step\n",
            "              precision    recall  f1-score   support\n",
            "\n",
            "           0       0.98      1.00      0.99       980\n",
            "           1       0.99      1.00      0.99      1135\n",
            "           2       1.00      0.99      0.99      1032\n",
            "           3       0.99      1.00      0.99      1010\n",
            "           4       0.98      1.00      0.99       982\n",
            "           5       0.99      0.99      0.99       892\n",
            "           6       1.00      0.98      0.99       958\n",
            "           7       0.99      1.00      0.99      1028\n",
            "           8       1.00      0.99      0.99       974\n",
            "           9       1.00      0.96      0.98      1009\n",
            "\n",
            "    accuracy                           0.99     10000\n",
            "   macro avg       0.99      0.99      0.99     10000\n",
            "weighted avg       0.99      0.99      0.99     10000\n",
            "\n"
          ]
        }
      ],
      "source": [
        "from sklearn.metrics import classification_report\n",
        "\n",
        "# Get the predicted labels for the test set\n",
        "predictions = model.predict(x_test)\n",
        "# Convert the predictions to class labels\n",
        "predicted_labels = np.argmax(predictions, axis=1)\n",
        "\n",
        "# Print the classification report\n",
        "print(classification_report(y_test, predicted_labels))"
      ]
    },
    {
      "cell_type": "markdown",
      "id": "7f82cde7",
      "metadata": {
        "id": "7f82cde7"
      },
      "source": [
        "Here we can see all the classes has more that 97% precision, Recall and F1 Score. Also our model accuracy as 99%."
      ]
    },
    {
      "cell_type": "markdown",
      "id": "875b1860",
      "metadata": {
        "id": "875b1860"
      },
      "source": [
        "## Making Predictions"
      ]
    },
    {
      "cell_type": "markdown",
      "id": "ba7d470d",
      "metadata": {
        "id": "ba7d470d"
      },
      "source": [
        "### 1) We will Predict digits based on previous unseen images from our dataset"
      ]
    },
    {
      "cell_type": "code",
      "execution_count": null,
      "id": "d3026800",
      "metadata": {
        "colab": {
          "base_uri": "https://localhost:8080/",
          "height": 193
        },
        "id": "d3026800",
        "outputId": "f33e9831-b9b2-4ab4-f498-0252f6a85aae"
      },
      "outputs": [
        {
          "output_type": "display_data",
          "data": {
            "text/plain": [
              "<Figure size 864x432 with 4 Axes>"
            ],
            "image/png": "[encoded data removed]"
          },
          "metadata": {
            "needs_background": "light"
          }
        }
      ],
      "source": [
        "use_samples = [53, 38, 393, 273]\n",
        "\n",
        "samples_to_predict = []\n",
        "\n",
        "# Create a figure with 4 subplots in a 2x2 grid\n",
        "fig, axes = plt.subplots(nrows=1, ncols=4,figsize=(12,6))\n",
        "\n",
        "# Flatten the axes array so that we can iterate over it easily\n",
        "axes = axes.ravel()\n",
        "\n",
        "for i, sample in enumerate(use_samples):\n",
        "    axes[i].imshow(x_test[sample].reshape(28,28),cmap='gray')\n",
        "    axes[i].set_title(y_test[sample])\n",
        "    samples_to_predict.append(x_test[sample])\n",
        "plt.subplots_adjust(hspace=0.4, wspace=0.4)\n",
        "plt.show()"
      ]
    },
    {
      "cell_type": "code",
      "execution_count": null,
      "id": "98f1c0d4",
      "metadata": {
        "id": "98f1c0d4"
      },
      "outputs": [],
      "source": [
        "samples_to_predict = np.array(samples_to_predict)"
      ]
    },
    {
      "cell_type": "code",
      "execution_count": null,
      "id": "33a7d361",
      "metadata": {
        "colab": {
          "base_uri": "https://localhost:8080/"
        },
        "id": "33a7d361",
        "outputId": "40a121ab-213b-478a-ee47-03eb1722027c"
      },
      "outputs": [
        {
          "output_type": "stream",
          "name": "stdout",
          "text": [
            "(4, 28, 28, 1)\n"
          ]
        }
      ],
      "source": [
        "print(samples_to_predict.shape)"
      ]
    },
    {
      "cell_type": "code",
      "execution_count": null,
      "id": "8059ba42",
      "metadata": {
        "colab": {
          "base_uri": "https://localhost:8080/"
        },
        "id": "8059ba42",
        "outputId": "a766b341-b4de-40eb-947c-54b9d56fc085"
      },
      "outputs": [
        {
          "output_type": "stream",
          "name": "stdout",
          "text": [
            "1/1 [==============================] - 0s 51ms/step\n",
            "[[4.89833702e-08 1.96668837e-09 1.02820955e-11 6.08450409e-06\n",
            "  1.32021782e-10 9.99992609e-01 5.27057686e-08 2.46272269e-09\n",
            "  1.53186654e-08 1.26918110e-06]\n",
            " [6.37854009e-06 2.34442676e-04 9.99757588e-01 3.36601467e-08\n",
            "  1.28452513e-07 1.05606190e-10 2.35266864e-08 1.30096817e-06\n",
            "  6.52176126e-08 1.05740936e-08]\n",
            " [4.74917439e-09 9.99999642e-01 3.62307051e-09 7.84924209e-11\n",
            "  3.88243038e-09 2.52156435e-10 7.48958465e-11 3.03772453e-07\n",
            "  8.95030272e-09 2.26810282e-09]\n",
            " [1.74285944e-07 5.42306378e-09 1.97800048e-07 3.91049389e-06\n",
            "  2.30821053e-04 1.55046990e-07 8.11506151e-09 2.65826995e-04\n",
            "  6.66316831e-04 9.98832643e-01]]\n"
          ]
        }
      ],
      "source": [
        "predictions = model.predict(samples_to_predict)\n",
        "print(predictions);"
      ]
    },
    {
      "cell_type": "code",
      "execution_count": null,
      "id": "d35a8857",
      "metadata": {
        "colab": {
          "base_uri": "https://localhost:8080/"
        },
        "id": "d35a8857",
        "outputId": "4190dab1-62b8-411d-b1e6-64335f95218a",
        "scrolled": true
      },
      "outputs": [
        {
          "output_type": "stream",
          "name": "stdout",
          "text": [
            "Our model is predicting the numbers to be [5 2 1 9]\n"
          ]
        }
      ],
      "source": [
        "# Generate arg maxes for predictions\n",
        "classes = np.argmax(predictions, axis = 1)\n",
        "print(f\"Our model is predicting the numbers to be {classes}\")"
      ]
    },
    {
      "cell_type": "markdown",
      "id": "d41f4c29",
      "metadata": {
        "id": "d41f4c29"
      },
      "source": [
        "**Here our model correctly predicted all four previouly unseen images**"
      ]
    },
    {
      "cell_type": "markdown",
      "id": "fe8e0054",
      "metadata": {
        "id": "fe8e0054"
      },
      "source": [
        "### 2) We will Predict a digit based on image downloaded from internet"
      ]
    },
    {
      "cell_type": "code",
      "execution_count": null,
      "id": "JEJe06-qHwS4",
      "metadata": {
        "id": "JEJe06-qHwS4"
      },
      "outputs": [],
      "source": [
        "from urllib.request import urlopen\n",
        "from PIL import Image\n",
        "\n",
        "url = \"https://i.postimg.cc/6pG37bWD/2.jpg\"\n",
        "with urlopen(url) as url:\n",
        "    with open(\"2.jpg\", \"wb\") as f:\n",
        "        f.write(url.read())\n",
        "\n",
        "img = Image.open(\"2.jpg\")\n",
        "\n",
        "# Converting to Greyscale\n",
        "img = img.convert('L')\n"
      ]
    },
    {
      "cell_type": "code",
      "execution_count": null,
      "id": "lx5KpEeqTRtf",
      "metadata": {
        "colab": {
          "base_uri": "https://localhost:8080/",
          "height": 286
        },
        "id": "lx5KpEeqTRtf",
        "outputId": "8bf543e3-f026-4a7e-b49a-37f87a89444f"
      },
      "outputs": [
        {
          "output_type": "execute_result",
          "data": {
            "text/plain": [
              "<matplotlib.image.AxesImage at 0x7f69ca1f03a0>"
            ]
          },
          "metadata": {},
          "execution_count": 36
        },
        {
          "output_type": "display_data",
          "data": {
            "text/plain": [
              "<Figure size 432x288 with 1 Axes>"
            ],
            "image/png": "[encoded data removed]"
          },
          "metadata": {
            "needs_background": "light"
          }
        }
      ],
      "source": [
        "plt.imshow(img)"
      ]
    },
    {
      "cell_type": "code",
      "execution_count": null,
      "id": "vR5hfHCCTRk_",
      "metadata": {
        "colab": {
          "base_uri": "https://localhost:8080/"
        },
        "id": "vR5hfHCCTRk_",
        "outputId": "60dc9f49-e086-4f81-eb49-2f4ce7951484"
      },
      "outputs": [
        {
          "output_type": "stream",
          "name": "stdout",
          "text": [
            "1/1 [==============================] - 0s 53ms/step\n",
            "Our Trained Model is predicting the image as 2\n"
          ]
        }
      ],
      "source": [
        "#resize the image\n",
        "img = img.resize((28,28))\n",
        "#convert to numpy array and normalize the pixel values\n",
        "img_array = np.array(img)/255.0\n",
        "#expand the dimensions of the array\n",
        "img_array = np.expand_dims(img_array, axis=0)\n",
        "# reshaping our image as according to our train data\n",
        "img_array = img_array.reshape(1,28,28,1)\n",
        "\n",
        "# making prediction based on our trained model\n",
        "predictions = model.predict(img_array)\n",
        "pred = np.argmax(predictions, axis=1)\n",
        "\n",
        "print(f\"Our Trained Model is predicting the image as {pred[0]}\")"
      ]
    },
    {
      "cell_type": "markdown",
      "id": "82f3892d",
      "metadata": {
        "id": "82f3892d"
      },
      "source": [
        "**Here our model correctly predicted the random digit image from the internet**"
      ]
    },
    {
      "cell_type": "markdown",
      "id": "4f0dddd8",
      "metadata": {
        "id": "4f0dddd8"
      },
      "source": [
        "## Experimenting the MNIST Dataset with Support Vector Classifier Model"
      ]
    },
    {
      "cell_type": "code",
      "execution_count": null,
      "id": "79003a9f",
      "metadata": {
        "colab": {
          "base_uri": "https://localhost:8080/"
        },
        "id": "79003a9f",
        "outputId": "f7d30845-3236-41c6-f8fd-f75d57d3bad6"
      },
      "outputs": [
        {
          "output_type": "stream",
          "name": "stdout",
          "text": [
            "Best parameters:  {'C': 10, 'kernel': 'rbf'}\n",
            "Best score:  0.9535983559590603\n",
            "Accuracy: 0.96\n"
          ]
        }
      ],
      "source": [
        "import numpy as np\n",
        "from tensorflow.keras.datasets import mnist\n",
        "from sklearn.svm import SVC\n",
        "from sklearn.metrics import accuracy_score\n",
        "from sklearn.model_selection import GridSearchCV\n",
        "\n",
        "# Load the MNIST dataset\n",
        "(x_train, y_train), (x_test, y_test) = mnist.load_data()\n",
        "\n",
        "# Preprocess the data\n",
        "x_train = x_train.reshape(60000, 784)\n",
        "x_test = x_test.reshape(10000, 784)\n",
        "x_train = x_train.astype('float32') / 255\n",
        "x_test = x_test.astype('float32') / 255\n",
        "\n",
        "# Randomly pick 5000 images from the training set\n",
        "random_indices = np.random.choice(60000, 5000, replace=False)\n",
        "x_train = x_train[random_indices]\n",
        "y_train = y_train[random_indices]\n",
        "\n",
        "# Define the SVM model\n",
        "clf = SVC(kernel='linear', C=1)\n",
        "\n",
        "# Perform the grid search\n",
        "grid_search_SVM = GridSearchCV(clf, {'C': [0.1, 1, 10, 100],'kernel': ['linear', 'rbf']}, cv=3, n_jobs=-1)\n",
        "grid_search_SVM.fit(x_train, y_train)\n",
        "\n",
        "# Print the best parameters and the best score\n",
        "print(\"Best parameters: \", grid_search_SVM.best_params_)\n",
        "print(\"Best score: \", grid_search_SVM.best_score_)\n",
        "\n",
        "# Evaluate the model on the test set\n",
        "y_pred = grid_search_SVM.predict(x_test)\n",
        "accuracy = accuracy_score(y_test, y_pred)\n",
        "print('Accuracy:', accuracy)\n"
      ]
    },
    {
      "cell_type": "code",
      "execution_count": null,
      "id": "b0309057",
      "metadata": {
        "colab": {
          "base_uri": "https://localhost:8080/"
        },
        "id": "b0309057",
        "outputId": "92cd4767-6b2a-407c-9895-b68e86c6112d"
      },
      "outputs": [
        {
          "output_type": "stream",
          "name": "stdout",
          "text": [
            "              precision    recall  f1-score   support\n",
            "\n",
            "           0       0.96      0.99      0.97       980\n",
            "           1       0.98      0.99      0.98      1135\n",
            "           2       0.95      0.96      0.96      1032\n",
            "           3       0.95      0.95      0.95      1010\n",
            "           4       0.95      0.97      0.96       982\n",
            "           5       0.96      0.95      0.96       892\n",
            "           6       0.96      0.97      0.97       958\n",
            "           7       0.96      0.95      0.95      1028\n",
            "           8       0.95      0.95      0.95       974\n",
            "           9       0.96      0.93      0.94      1009\n",
            "\n",
            "    accuracy                           0.96     10000\n",
            "   macro avg       0.96      0.96      0.96     10000\n",
            "weighted avg       0.96      0.96      0.96     10000\n",
            "\n"
          ]
        }
      ],
      "source": [
        "from sklearn.metrics import classification_report\n",
        "print(classification_report(y_test, y_pred))"
      ]
    },
    {
      "cell_type": "code",
      "source": [
        "use_samples = [53, 38, 393, 273]\n",
        "\n",
        "samples_to_predict = []\n",
        "\n",
        "# Create a figure with 4 subplots in a 2x2 grid\n",
        "fig, axes = plt.subplots(nrows=1, ncols=4,figsize=(12,6))\n",
        "\n",
        "# Flatten the axes array so that we can iterate over it easily\n",
        "axes = axes.ravel()\n",
        "\n",
        "for i, sample in enumerate(use_samples):\n",
        "    axes[i].imshow(x_test[sample].reshape(28,28), cmap='gray') # changed (1,784) to (28,28)\n",
        "    axes[i].set_title(\"True: {}\".format(y_test[sample])) # changed [sample] to y_test[sample]\n",
        "    samples_to_predict.append(x_test[sample].reshape(1, 784)) # changed x_test[sample] to x_test[sample].reshape(1, 784)\n",
        "plt.subplots_adjust(hspace=0.4, wspace=0.4)\n",
        "plt.show()\n"
      ],
      "metadata": {
        "colab": {
          "base_uri": "https://localhost:8080/",
          "height": 193
        },
        "id": "4-rQNqWpQ16R",
        "outputId": "7f46ab92-ff13-4fe9-c361-ab60aa75fdb1"
      },
      "id": "4-rQNqWpQ16R",
      "execution_count": null,
      "outputs": [
        {
          "output_type": "display_data",
          "data": {
            "text/plain": [
              "<Figure size 864x432 with 4 Axes>"
            ],
            "image/png": "[encoded data removed]"
          },
          "metadata": {
            "needs_background": "light"
          }
        }
      ]
    },
    {
      "cell_type": "code",
      "source": [
        "samples_to_predict = np.array(samples_to_predict).reshape(len(use_samples), 784)\n",
        "predictions = grid_search_SVM.predict(samples_to_predict)\n",
        "print(predictions);"
      ],
      "metadata": {
        "colab": {
          "base_uri": "https://localhost:8080/"
        },
        "id": "p8fWOpGSQ1u2",
        "outputId": "ac3fcd0d-6754-4db7-b14e-11348ada52eb"
      },
      "id": "p8fWOpGSQ1u2",
      "execution_count": null,
      "outputs": [
        {
          "output_type": "stream",
          "name": "stdout",
          "text": [
            "[5 2 1 9]\n"
          ]
        }
      ]
    },
    {
      "cell_type": "markdown",
      "id": "6b250dcc",
      "metadata": {
        "id": "6b250dcc"
      },
      "source": [
        "## Experimenting the MNIST Dataset with K-Nearest Neighbor Classifier Model"
      ]
    },
    {
      "cell_type": "code",
      "execution_count": null,
      "id": "dea47248",
      "metadata": {
        "colab": {
          "base_uri": "https://localhost:8080/"
        },
        "id": "dea47248",
        "outputId": "3d862ff9-de00-452e-f5bb-69af15f4484f"
      },
      "outputs": [
        {
          "output_type": "stream",
          "name": "stdout",
          "text": [
            "Best parameters:  {'n_neighbors': 3}\n",
            "Best score:  0.9211988334625992\n",
            "Accuracy: 0.9352\n"
          ]
        }
      ],
      "source": [
        "from sklearn.neighbors import KNeighborsClassifier\n",
        "\n",
        "# Define the KNN model\n",
        "clf = KNeighborsClassifier(n_neighbors=5)\n",
        "\n",
        "# Perform the grid search\n",
        "grid_search_KNN = GridSearchCV(clf, {'n_neighbors': [3, 5, 7, 9]}, cv=3, n_jobs=-1)\n",
        "grid_search_KNN.fit(x_train, y_train)\n",
        "\n",
        "# Print the best parameters and the best score\n",
        "print(\"Best parameters: \", grid_search_KNN.best_params_)\n",
        "print(\"Best score: \", grid_search_KNN.best_score_)\n",
        "\n",
        "# Evaluate the model on the test set\n",
        "y_pred = grid_search_KNN.predict(x_test)\n",
        "accuracy = accuracy_score(y_test, y_pred)\n",
        "print('Accuracy:', accuracy)\n"
      ]
    },
    {
      "cell_type": "code",
      "execution_count": null,
      "id": "642998c3",
      "metadata": {
        "colab": {
          "base_uri": "https://localhost:8080/"
        },
        "id": "642998c3",
        "outputId": "bd7f469f-2bf5-47ec-c1b2-c132d84d466c"
      },
      "outputs": [
        {
          "output_type": "stream",
          "name": "stdout",
          "text": [
            "              precision    recall  f1-score   support\n",
            "\n",
            "           0       0.93      0.99      0.96       980\n",
            "           1       0.90      1.00      0.95      1135\n",
            "           2       0.97      0.90      0.93      1032\n",
            "           3       0.93      0.94      0.93      1010\n",
            "           4       0.94      0.91      0.93       982\n",
            "           5       0.94      0.92      0.93       892\n",
            "           6       0.96      0.97      0.97       958\n",
            "           7       0.94      0.93      0.93      1028\n",
            "           8       0.97      0.88      0.92       974\n",
            "           9       0.90      0.92      0.91      1009\n",
            "\n",
            "    accuracy                           0.94     10000\n",
            "   macro avg       0.94      0.93      0.93     10000\n",
            "weighted avg       0.94      0.94      0.93     10000\n",
            "\n"
          ]
        }
      ],
      "source": [
        "print(classification_report(y_test, y_pred))"
      ]
    },
    {
      "cell_type": "code",
      "source": [
        "use_samples = [53, 38, 393, 273]\n",
        "\n",
        "samples_to_predict = []\n",
        "\n",
        "# Create a figure with 4 subplots in a 2x2 grid\n",
        "fig, axes = plt.subplots(nrows=1, ncols=4,figsize=(12,6))\n",
        "\n",
        "# Flatten the axes array so that we can iterate over it easily\n",
        "axes = axes.ravel()\n",
        "\n",
        "for i, sample in enumerate(use_samples):\n",
        "    axes[i].imshow(x_test[sample].reshape(28,28), cmap='gray') # changed (1,784) to (28,28)\n",
        "    axes[i].set_title(\"True: {}\".format(y_test[sample])) # changed [sample] to y_test[sample]\n",
        "    samples_to_predict.append(x_test[sample].reshape(1, 784)) # changed x_test[sample] to x_test[sample].reshape(1, 784)\n",
        "plt.subplots_adjust(hspace=0.4, wspace=0.4)\n",
        "plt.show()\n"
      ],
      "metadata": {
        "colab": {
          "base_uri": "https://localhost:8080/",
          "height": 193
        },
        "id": "S-o3ktAyOL3T",
        "outputId": "266beb4f-8cbe-4694-fd3f-88a4f6755eb1"
      },
      "id": "S-o3ktAyOL3T",
      "execution_count": null,
      "outputs": [
        {
          "output_type": "display_data",
          "data": {
            "text/plain": [
              "<Figure size 864x432 with 4 Axes>"
            ],
            "image/png": "[encoded data removed]"
          },
          "metadata": {
            "needs_background": "light"
          }
        }
      ]
    },
    {
      "cell_type": "code",
      "source": [
        "samples_to_predict = np.array(samples_to_predict).reshape(len(use_samples), 784)\n",
        "predictions = grid_search_KNN.predict(samples_to_predict)\n",
        "print(predictions);"
      ],
      "metadata": {
        "colab": {
          "base_uri": "https://localhost:8080/"
        },
        "id": "CdXvwRySOLzg",
        "outputId": "c9cc3daa-8bf6-43c5-c54b-99a07eb84896"
      },
      "id": "CdXvwRySOLzg",
      "execution_count": null,
      "outputs": [
        {
          "output_type": "stream",
          "name": "stdout",
          "text": [
            "[5 3 1 9]\n"
          ]
        }
      ]
    },
    {
      "cell_type": "markdown",
      "id": "a061b557",
      "metadata": {
        "id": "a061b557"
      },
      "source": [
        "## Model Comparison Report"
      ]
    },
    {
      "cell_type": "markdown",
      "source": [
        "For our MNIST handwritten digit classification dataset we have experimented with three different models like convoluted neural network (CNN), support vector classifier (SVC) and k-nearest neighbor (KNN) and we have found that CNN model outperforms other models. CNN model is giving us an accuracy score of 99% whereas other models like SVC and KNN are giving us around 96% and 94% respectively. Also CNN model correctly predicted previous unseen image data; but SVC and KNN were giving out incorrect predictions sometimes. We should look at the confusion matrix for all our models to better understand our findings"
      ],
      "metadata": {
        "id": "W3okSxlrTDql"
      },
      "id": "W3okSxlrTDql"
    },
    {
      "cell_type": "code",
      "execution_count": null,
      "id": "0c3c43f6",
      "metadata": {
        "id": "0c3c43f6"
      },
      "outputs": [],
      "source": []
    }
  ],
  "metadata": {
    "accelerator": "GPU",
    "colab": {
      "provenance": [],
      "include_colab_link": true
    },
    "gpuClass": "standard",
    "kernelspec": {
      "display_name": "Python 3 (ipykernel)",
      "language": "python",
      "name": "python3"
    },
    "language_info": {
      "codemirror_mode": {
        "name": "ipython",
        "version": 3
      },
      "file_extension": ".py",
      "mimetype": "text/x-python",
      "name": "python",
      "nbconvert_exporter": "python",
      "pygments_lexer": "ipython3",
      "version": "3.9.7"
    }
  },
  "nbformat": 4,
  "nbformat_minor": 5
}