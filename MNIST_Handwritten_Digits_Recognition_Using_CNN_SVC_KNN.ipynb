{
  "cells": [
    {
      "cell_type": "markdown",
      "metadata": {
        "id": "view-in-github",
        "colab_type": "text"
      },
      "source": [
        "<a href=\"https://colab.research.google.com/github/nelsongf00/MNIST_HandWritten_Digits_Predictions_Using_Convoluted_Neural_Networks_SVC_And_KNN/blob/main/MNIST_Handwritten_Digits_Recognition_Using_CNN_SVC_KNN.ipynb\" target=\"_parent\"><img src=\"https://colab.research.google.com/assets/colab-badge.svg\" alt=\"Open In Colab\"/></a>"
      ]
    },
    {
      "cell_type": "markdown",
      "id": "ed325348",
      "metadata": {
        "id": "ed325348"
      },
      "source": [
        "PRCP-1002-Handwritten Digits Recognition"
      ]
    },
    {
      "cell_type": "markdown",
      "id": "67508b6d",
      "metadata": {
        "id": "67508b6d"
      },
      "source": [
        "# MNIST Handwritten Digit Recognition Using Classification Models"
      ]
    },
    {
      "cell_type": "markdown",
      "id": "aba63058",
      "metadata": {
        "id": "aba63058"
      },
      "source": [
        "## Domain Analysis"
      ]
    },
    {
      "cell_type": "markdown",
      "id": "639450cd",
      "metadata": {
        "id": "639450cd"
      },
      "source": [
        "MNIST (\"Modified National Institute of Standards and Technology\") is the de facto “hello world” dataset of computer vision. Since its release in 1999, this classic dataset of handwritten images has served as the basis for benchmarking classification algorithms. As new machine learning techniques emerge, MNIST remains a reliable resource for researchers and learners alike."
      ]
    },
    {
      "cell_type": "markdown",
      "id": "fb7f362c",
      "metadata": {
        "id": "fb7f362c"
      },
      "source": [
        "## The Goal of this project"
      ]
    },
    {
      "cell_type": "markdown",
      "id": "f949b9f5",
      "metadata": {
        "id": "f949b9f5"
      },
      "source": [
        "The goal is to build a classifier model to better predict the MNIST dataset which is a multi-class classification dataset. We will be building a Convoluted Neural Network to predict previously unseen images and also, we will experiment with other classification models like Support Vector Machines (SVM) and K-Nearest Neighbor (KNN). Finally, we will compare all three models and see which model outperforms others."
      ]
    },
    {
      "cell_type": "markdown",
      "id": "7cee80c6",
      "metadata": {
        "id": "7cee80c6"
      },
      "source": [
        "#### Importing the basic libraries "
      ]
    },
    {
      "cell_type": "code",
      "execution_count": 40,
      "id": "7cc6fe11",
      "metadata": {
        "id": "7cc6fe11"
      },
      "outputs": [],
      "source": [
        "import tensorflow\n",
        "import keras\n",
        "import pandas as pd\n",
        "import numpy as np\n",
        "import matplotlib.pyplot as plt\n",
        "%matplotlib inline"
      ]
    },
    {
      "cell_type": "markdown",
      "id": "b5d1b931",
      "metadata": {
        "id": "b5d1b931"
      },
      "source": [
        "#### Importing the MNIST dataset and storing it in train and test data "
      ]
    },
    {
      "cell_type": "code",
      "execution_count": 41,
      "id": "8bfbbb4d",
      "metadata": {
        "id": "8bfbbb4d"
      },
      "outputs": [],
      "source": [
        "from tensorflow.keras.datasets import mnist\n",
        "(x_train, y_train), (x_test, y_test) = mnist.load_data()\n"
      ]
    },
    {
      "cell_type": "markdown",
      "id": "47dd0d60",
      "metadata": {
        "id": "47dd0d60"
      },
      "source": [
        "## Basic Checks"
      ]
    },
    {
      "cell_type": "code",
      "execution_count": 42,
      "id": "6388f808",
      "metadata": {
        "colab": {
          "base_uri": "https://localhost:8080/"
        },
        "id": "6388f808",
        "outputId": "59047688-198a-416c-9464-5d6665153651",
        "scrolled": true
      },
      "outputs": [
        {
          "output_type": "execute_result",
          "data": {
            "text/plain": [
              "(60000, 28, 28)"
            ]
          },
          "metadata": {},
          "execution_count": 42
        }
      ],
      "source": [
        "x_train.shape"
      ]
    },
    {
      "cell_type": "markdown",
      "id": "6d539827",
      "metadata": {
        "id": "6d539827"
      },
      "source": [
        "Here we have a training data of 60000 images of 28 by 28 pixels"
      ]
    },
    {
      "cell_type": "code",
      "execution_count": 43,
      "id": "7a0cb99d",
      "metadata": {
        "colab": {
          "base_uri": "https://localhost:8080/"
        },
        "id": "7a0cb99d",
        "outputId": "1361b4fe-400a-4e03-d102-0c989827fbe0",
        "scrolled": false
      },
      "outputs": [
        {
          "output_type": "execute_result",
          "data": {
            "text/plain": [
              "(10000, 28, 28)"
            ]
          },
          "metadata": {},
          "execution_count": 43
        }
      ],
      "source": [
        "x_test.shape"
      ]
    },
    {
      "cell_type": "markdown",
      "id": "ce0ca6be",
      "metadata": {
        "id": "ce0ca6be"
      },
      "source": [
        "Here we have a testing data of 10000 images of 28 by 28 pixels"
      ]
    },
    {
      "cell_type": "markdown",
      "id": "4d72e243",
      "metadata": {
        "id": "4d72e243"
      },
      "source": [
        "**Visualizing the first 48 images in our training data**"
      ]
    },
    {
      "cell_type": "code",
      "execution_count": 44,
      "id": "5317df3f",
      "metadata": {
        "colab": {
          "base_uri": "https://localhost:8080/",
          "height": 515
        },
        "id": "5317df3f",
        "outputId": "20343e94-f877-4659-8ade-f9bdba9c8f10",
        "scrolled": true
      },
      "outputs": [
        {
          "output_type": "display_data",
          "data": {
            "text/plain": [
              "<Figure size 1440x504 with 48 Axes>"
            ],
            "image/png": "[encoded data removed]"
          },
          "metadata": {}
        }
      ],
      "source": [
        "fig = plt.figure(figsize=(20,7))\n",
        "for i in range(48):\n",
        "    ax = fig.add_subplot(4, 12, i + 1, xticks=[], yticks=[])\n",
        "    ax.imshow(x_train[i], cmap='gray')\n",
        "    ax.set_title(str(y_train[i]), fontsize=20)\n",
        "plt.tight_layout()"
      ]
    },
    {
      "cell_type": "markdown",
      "id": "39e3116c",
      "metadata": {
        "id": "39e3116c"
      },
      "source": [
        "## Data Preprocessing"
      ]
    },
    {
      "cell_type": "markdown",
      "id": "36432ea6",
      "metadata": {
        "id": "36432ea6"
      },
      "source": [
        "We need to make our image dataset ready for our model, as such we require some data preprocessing steps to ensure it is ready to be fed in the model"
      ]
    },
    {
      "cell_type": "markdown",
      "id": "9842f803",
      "metadata": {
        "id": "9842f803"
      },
      "source": [
        "#### One Hot Encoding our output data"
      ]
    },
    {
      "cell_type": "code",
      "execution_count": 45,
      "id": "1f449961",
      "metadata": {
        "id": "1f449961"
      },
      "outputs": [],
      "source": [
        "from tensorflow.keras.utils import to_categorical"
      ]
    },
    {
      "cell_type": "code",
      "execution_count": 46,
      "id": "d8537aac",
      "metadata": {
        "id": "d8537aac"
      },
      "outputs": [],
      "source": [
        "num_classes = len(np.unique(y_train))"
      ]
    },
    {
      "cell_type": "code",
      "execution_count": 47,
      "id": "a1cd6e8d",
      "metadata": {
        "colab": {
          "base_uri": "https://localhost:8080/"
        },
        "id": "a1cd6e8d",
        "outputId": "9064a79f-4c15-42fb-a3a8-61552addf92b"
      },
      "outputs": [
        {
          "output_type": "execute_result",
          "data": {
            "text/plain": [
              "(60000,)"
            ]
          },
          "metadata": {},
          "execution_count": 47
        }
      ],
      "source": [
        "y_train.shape"
      ]
    },
    {
      "cell_type": "code",
      "execution_count": 48,
      "id": "c8457297",
      "metadata": {
        "id": "c8457297"
      },
      "outputs": [],
      "source": [
        "y_cat_train = to_categorical(y_train,num_classes)"
      ]
    },
    {
      "cell_type": "code",
      "execution_count": 49,
      "id": "d464e239",
      "metadata": {
        "colab": {
          "base_uri": "https://localhost:8080/"
        },
        "id": "d464e239",
        "outputId": "ae8cdd34-ba7e-4a30-a33d-76b55ea55c71"
      },
      "outputs": [
        {
          "output_type": "execute_result",
          "data": {
            "text/plain": [
              "(60000, 10)"
            ]
          },
          "metadata": {},
          "execution_count": 49
        }
      ],
      "source": [
        "y_cat_train.shape"
      ]
    },
    {
      "cell_type": "code",
      "execution_count": 50,
      "id": "9982c951",
      "metadata": {
        "colab": {
          "base_uri": "https://localhost:8080/"
        },
        "id": "9982c951",
        "outputId": "1af58c70-28c1-491d-cb03-31d8af5c5143"
      },
      "outputs": [
        {
          "output_type": "execute_result",
          "data": {
            "text/plain": [
              "(10000,)"
            ]
          },
          "metadata": {},
          "execution_count": 50
        }
      ],
      "source": [
        "y_test.shape"
      ]
    },
    {
      "cell_type": "code",
      "execution_count": 51,
      "id": "0d9ed0c6",
      "metadata": {
        "id": "0d9ed0c6"
      },
      "outputs": [],
      "source": [
        "y_cat_test = to_categorical(y_test,num_classes)"
      ]
    },
    {
      "cell_type": "code",
      "execution_count": 52,
      "id": "99186cd5",
      "metadata": {
        "colab": {
          "base_uri": "https://localhost:8080/"
        },
        "id": "99186cd5",
        "outputId": "d3ea49b4-86bd-446d-f56b-209f96ebf0ac"
      },
      "outputs": [
        {
          "output_type": "execute_result",
          "data": {
            "text/plain": [
              "(10000, 10)"
            ]
          },
          "metadata": {},
          "execution_count": 52
        }
      ],
      "source": [
        "y_cat_test.shape"
      ]
    },
    {
      "cell_type": "markdown",
      "id": "b0f1275d",
      "metadata": {
        "id": "b0f1275d"
      },
      "source": [
        "#### Normalizing our input data"
      ]
    },
    {
      "cell_type": "markdown",
      "id": "95c01f2d",
      "metadata": {
        "id": "95c01f2d"
      },
      "source": [
        "We need to scale our data so that when it is fed into the ML model, it can be processed faster.\n",
        "\n",
        "This normalization makes it easier for the model to learn from the data, as it puts all the features on the same scale and prevents any one feature from having too much influence on the model's predictions."
      ]
    },
    {
      "cell_type": "code",
      "execution_count": 53,
      "id": "20815504",
      "metadata": {
        "id": "20815504"
      },
      "outputs": [],
      "source": [
        "x_train = x_train.astype('float32')/255\n",
        "x_test = x_test.astype('float32')/255"
      ]
    },
    {
      "cell_type": "markdown",
      "id": "b0f12521",
      "metadata": {
        "id": "b0f12521"
      },
      "source": [
        "#### Reshaping our data"
      ]
    },
    {
      "cell_type": "code",
      "execution_count": 54,
      "id": "a3d607d4",
      "metadata": {
        "id": "a3d607d4"
      },
      "outputs": [],
      "source": [
        "x_train = x_train.reshape(60000,28,28,1)"
      ]
    },
    {
      "cell_type": "code",
      "execution_count": 55,
      "id": "29432cb6",
      "metadata": {
        "colab": {
          "base_uri": "https://localhost:8080/"
        },
        "id": "29432cb6",
        "outputId": "8dbca08b-b39d-4757-af75-f85a90556ee4"
      },
      "outputs": [
        {
          "output_type": "stream",
          "name": "stdout",
          "text": [
            "(60000, 28, 28, 1)\n"
          ]
        }
      ],
      "source": [
        "print(x_train.shape)"
      ]
    },
    {
      "cell_type": "code",
      "execution_count": 56,
      "id": "4cda298d",
      "metadata": {
        "id": "4cda298d"
      },
      "outputs": [],
      "source": [
        "x_test = x_test.reshape(10000,28,28,1)"
      ]
    },
    {
      "cell_type": "code",
      "execution_count": 57,
      "id": "c0794429",
      "metadata": {
        "colab": {
          "base_uri": "https://localhost:8080/"
        },
        "id": "c0794429",
        "outputId": "e0598dca-5381-4e93-9c08-e9ea51678d6b"
      },
      "outputs": [
        {
          "output_type": "stream",
          "name": "stdout",
          "text": [
            "(10000, 28, 28, 1)\n"
          ]
        }
      ],
      "source": [
        "print(x_test.shape)"
      ]
    },
    {
      "cell_type": "markdown",
      "id": "64495c1a",
      "metadata": {
        "id": "64495c1a"
      },
      "source": [
        "#### Split the data into training and validation sets"
      ]
    },
    {
      "cell_type": "code",
      "execution_count": 58,
      "id": "b333cb59",
      "metadata": {
        "id": "b333cb59"
      },
      "outputs": [],
      "source": [
        "from sklearn.model_selection import train_test_split\n",
        "(x_train, x_val, y_cat_train, y_val) = train_test_split(x_train, y_cat_train, test_size=10000, random_state=42,shuffle=True)"
      ]
    },
    {
      "cell_type": "code",
      "execution_count": 59,
      "id": "5a741f22",
      "metadata": {
        "colab": {
          "base_uri": "https://localhost:8080/"
        },
        "id": "5a741f22",
        "outputId": "e72a8420-6309-4f5b-9ab9-8cb08762bf20"
      },
      "outputs": [
        {
          "output_type": "stream",
          "name": "stdout",
          "text": [
            "50000 train samples\n",
            "10000 test samples\n",
            "10000 validation samples\n"
          ]
        }
      ],
      "source": [
        "print(x_train.shape[0], 'train samples')\n",
        "print(x_test.shape[0], 'test samples')\n",
        "print(x_val.shape[0], 'validation samples')"
      ]
    },
    {
      "cell_type": "markdown",
      "id": "41b2a50d",
      "metadata": {
        "id": "41b2a50d"
      },
      "source": [
        "## Building a Convoluted Neural Network Model to predict MNIST dataset"
      ]
    },
    {
      "cell_type": "code",
      "execution_count": 60,
      "id": "78c0baf8",
      "metadata": {
        "id": "78c0baf8"
      },
      "outputs": [],
      "source": [
        "from keras.models import Sequential\n",
        "from keras.layers import Conv2D, MaxPooling2D, Flatten, Dense, Dropout\n",
        "\n",
        "model = Sequential()\n",
        "model.add(Conv2D(filters=16, kernel_size=2, padding='same', activation='relu', \n",
        "                        input_shape=(28, 28, 1)))\n",
        "model.add(MaxPooling2D(pool_size=2))\n",
        "\n",
        "model.add(Conv2D(filters=32, kernel_size=2, padding='same', activation='relu'))\n",
        "model.add(MaxPooling2D(pool_size=2))\n",
        "\n",
        "model.add(Conv2D(filters=64, kernel_size=2, padding='same', activation='relu'))\n",
        "model.add(MaxPooling2D(pool_size=2))\n",
        "model.add(Dropout(0.3))\n",
        "\n",
        "model.add(Flatten())\n",
        "model.add(Dense(500, activation='relu'))\n",
        "\n",
        "model.add(Dropout(0.4))\n",
        "model.add(Dense(10, activation='softmax'))\n",
        "\n",
        "model.compile(loss = 'categorical_crossentropy',\n",
        "             optimizer = 'adam',\n",
        "             metrics = ['accuracy'])"
      ]
    },
    {
      "cell_type": "markdown",
      "id": "dc801ea6",
      "metadata": {
        "id": "dc801ea6"
      },
      "source": [
        "Here we have added multiple convolutional layers with increasing number of filters, which is a good approach for increasing the model's capacity to learn complex features. \n",
        "\n",
        "We have also added max pooling layers after each convolutional layer to reduce the spatial dimensions and control overfitting.\n",
        "\n",
        "The dropout layers added after the max pooling layers also help in preventing overfitting. \n",
        "\n",
        "The final output layer has 10 units as we are trying to classify 10 different classes."
      ]
    },
    {
      "cell_type": "markdown",
      "id": "0b7dc05d",
      "metadata": {
        "id": "0b7dc05d"
      },
      "source": [
        "#### Early stopping"
      ]
    },
    {
      "cell_type": "markdown",
      "id": "0d4b8d0d",
      "metadata": {
        "id": "0d4b8d0d"
      },
      "source": [
        "Early stopping is a technique used to prevent overfitting in neural networks. It is used to terminate the training process of a neural network before it reaches the maximum number of epochs defined. The idea behind early stopping is to monitor the performance of the network on a validation dataset, and stop the training process when the performance on the validation set starts to decrease or degrade. This is because, as the training process continues, the model starts to overfit the training data and performs worse on unseen data such as validation set. By using early stopping, we can prevent the model from overfitting and achieve better generalization."
      ]
    },
    {
      "cell_type": "code",
      "execution_count": 61,
      "id": "b0472a98",
      "metadata": {
        "id": "b0472a98"
      },
      "outputs": [],
      "source": [
        "from tensorflow.keras.callbacks import EarlyStopping\n",
        "early_stop = EarlyStopping(monitor = 'val_loss',patience=2)"
      ]
    },
    {
      "cell_type": "code",
      "execution_count": 62,
      "id": "0c9457f6",
      "metadata": {
        "colab": {
          "base_uri": "https://localhost:8080/"
        },
        "id": "0c9457f6",
        "outputId": "057e86cf-efbb-456b-8b6c-8aa6f3eae7ba",
        "scrolled": true
      },
      "outputs": [
        {
          "output_type": "stream",
          "name": "stdout",
          "text": [
            "Epoch 1/20\n",
            "1563/1563 [==============================] - 9s 5ms/step - loss: 0.2585 - accuracy: 0.9170 - val_loss: 0.0794 - val_accuracy: 0.9749\n",
            "Epoch 2/20\n",
            "1563/1563 [==============================] - 7s 5ms/step - loss: 0.0952 - accuracy: 0.9704 - val_loss: 0.0494 - val_accuracy: 0.9846\n",
            "Epoch 3/20\n",
            "1563/1563 [==============================] - 8s 5ms/step - loss: 0.0681 - accuracy: 0.9779 - val_loss: 0.0382 - val_accuracy: 0.9881\n",
            "Epoch 4/20\n",
            "1563/1563 [==============================] - 7s 5ms/step - loss: 0.0591 - accuracy: 0.9812 - val_loss: 0.0356 - val_accuracy: 0.9886\n",
            "Epoch 5/20\n",
            "1563/1563 [==============================] - 7s 5ms/step - loss: 0.0526 - accuracy: 0.9839 - val_loss: 0.0354 - val_accuracy: 0.9893\n",
            "Epoch 6/20\n",
            "1563/1563 [==============================] - 8s 5ms/step - loss: 0.0437 - accuracy: 0.9859 - val_loss: 0.0323 - val_accuracy: 0.9905\n",
            "Epoch 7/20\n",
            "1563/1563 [==============================] - 7s 5ms/step - loss: 0.0411 - accuracy: 0.9866 - val_loss: 0.0348 - val_accuracy: 0.9905\n",
            "Epoch 8/20\n",
            "1563/1563 [==============================] - 7s 5ms/step - loss: 0.0372 - accuracy: 0.9878 - val_loss: 0.0347 - val_accuracy: 0.9895\n"
          ]
        },
        {
          "output_type": "execute_result",
          "data": {
            "text/plain": [
              "<keras.callbacks.History at 0x7fe3dbfa6190>"
            ]
          },
          "metadata": {},
          "execution_count": 62
        }
      ],
      "source": [
        "model.fit(x_train,y_cat_train,epochs = 20,callbacks=[early_stop],validation_data=(x_val,y_val))"
      ]
    },
    {
      "cell_type": "markdown",
      "id": "93ba598a",
      "metadata": {
        "id": "93ba598a"
      },
      "source": [
        "## Evaluating Our Model"
      ]
    },
    {
      "cell_type": "code",
      "execution_count": 63,
      "id": "40aa599c",
      "metadata": {
        "colab": {
          "base_uri": "https://localhost:8080/",
          "height": 300
        },
        "id": "40aa599c",
        "outputId": "1eabdf3b-5322-4945-b6ce-0bc3ad8703d2"
      },
      "outputs": [
        {
          "output_type": "execute_result",
          "data": {
            "text/plain": [
              "       loss  accuracy  val_loss  val_accuracy\n",
              "0  0.258527   0.91700  0.079356        0.9749\n",
              "1  0.095195   0.97040  0.049351        0.9846\n",
              "2  0.068083   0.97786  0.038233        0.9881\n",
              "3  0.059052   0.98120  0.035595        0.9886\n",
              "4  0.052627   0.98386  0.035450        0.9893\n",
              "5  0.043713   0.98588  0.032278        0.9905\n",
              "6  0.041110   0.98662  0.034790        0.9905\n",
              "7  0.037175   0.98782  0.034708        0.9895"
            ],
            "text/html": [
              "\n",
              "  <div id=\"df-d49f368b-0273-4b98-9ea1-91f8e3f8e193\">\n",
              "    <div class=\"colab-df-container\">\n",
              "      <div>\n",
              "<style scoped>\n",
              "    .dataframe tbody tr th:only-of-type {\n",
              "        vertical-align: middle;\n",
              "    }\n",
              "\n",
              "    .dataframe tbody tr th {\n",
              "        vertical-align: top;\n",
              "    }\n",
              "\n",
              "    .dataframe thead th {\n",
              "        text-align: right;\n",
              "    }\n",
              "</style>\n",
              "<table border=\"1\" class=\"dataframe\">\n",
              "  <thead>\n",
              "    <tr style=\"text-align: right;\">\n",
              "      <th></th>\n",
              "      <th>loss</th>\n",
              "      <th>accuracy</th>\n",
              "      <th>val_loss</th>\n",
              "      <th>val_accuracy</th>\n",
              "    </tr>\n",
              "  </thead>\n",
              "  <tbody>\n",
              "    <tr>\n",
              "      <th>0</th>\n",
              "      <td>0.258527</td>\n",
              "      <td>0.91700</td>\n",
              "      <td>0.079356</td>\n",
              "      <td>0.9749</td>\n",
              "    </tr>\n",
              "    <tr>\n",
              "      <th>1</th>\n",
              "      <td>0.095195</td>\n",
              "      <td>0.97040</td>\n",
              "      <td>0.049351</td>\n",
              "      <td>0.9846</td>\n",
              "    </tr>\n",
              "    <tr>\n",
              "      <th>2</th>\n",
              "      <td>0.068083</td>\n",
              "      <td>0.97786</td>\n",
              "      <td>0.038233</td>\n",
              "      <td>0.9881</td>\n",
              "    </tr>\n",
              "    <tr>\n",
              "      <th>3</th>\n",
              "      <td>0.059052</td>\n",
              "      <td>0.98120</td>\n",
              "      <td>0.035595</td>\n",
              "      <td>0.9886</td>\n",
              "    </tr>\n",
              "    <tr>\n",
              "      <th>4</th>\n",
              "      <td>0.052627</td>\n",
              "      <td>0.98386</td>\n",
              "      <td>0.035450</td>\n",
              "      <td>0.9893</td>\n",
              "    </tr>\n",
              "    <tr>\n",
              "      <th>5</th>\n",
              "      <td>0.043713</td>\n",
              "      <td>0.98588</td>\n",
              "      <td>0.032278</td>\n",
              "      <td>0.9905</td>\n",
              "    </tr>\n",
              "    <tr>\n",
              "      <th>6</th>\n",
              "      <td>0.041110</td>\n",
              "      <td>0.98662</td>\n",
              "      <td>0.034790</td>\n",
              "      <td>0.9905</td>\n",
              "    </tr>\n",
              "    <tr>\n",
              "      <th>7</th>\n",
              "      <td>0.037175</td>\n",
              "      <td>0.98782</td>\n",
              "      <td>0.034708</td>\n",
              "      <td>0.9895</td>\n",
              "    </tr>\n",
              "  </tbody>\n",
              "</table>\n",
              "</div>\n",
              "      <button class=\"colab-df-convert\" onclick=\"convertToInteractive('df-d49f368b-0273-4b98-9ea1-91f8e3f8e193')\"\n",
              "              title=\"Convert this dataframe to an interactive table.\"\n",
              "              style=\"display:none;\">\n",
              "        \n",
              "  <svg xmlns=\"http://www.w3.org/2000/svg\" height=\"24px\"viewBox=\"0 0 24 24\"\n",
              "       width=\"24px\">\n",
              "    <path d=\"M0 0h24v24H0V0z\" fill=\"none\"/>\n",
              "    <path d=\"M18.56 5.44l.94 2.06.94-2.06 2.06-.94-2.06-.94-.94-2.06-.94 2.06-2.06.94zm-11 1L8.5 8.5l.94-2.06 2.06-.94-2.06-.94L8.5 2.5l-.94 2.06-2.06.94zm10 10l.94 2.06.94-2.06 2.06-.94-2.06-.94-.94-2.06-.94 2.06-2.06.94z\"/><path d=\"M17.41 7.96l-1.37-1.37c-.4-.4-.92-.59-1.43-.59-.52 0-1.04.2-1.43.59L10.3 9.45l-7.72 7.72c-.78.78-.78 2.05 0 2.83L4 21.41c.39.39.9.59 1.41.59.51 0 1.02-.2 1.41-.59l7.78-7.78 2.81-2.81c.8-.78.8-2.07 0-2.86zM5.41 20L4 18.59l7.72-7.72 1.47 1.35L5.41 20z\"/>\n",
              "  </svg>\n",
              "      </button>\n",
              "      \n",
              "  <style>\n",
              "    .colab-df-container {\n",
              "      display:flex;\n",
              "      flex-wrap:wrap;\n",
              "      gap: 12px;\n",
              "    }\n",
              "\n",
              "    .colab-df-convert {\n",
              "      background-color: #E8F0FE;\n",
              "      border: none;\n",
              "      border-radius: 50%;\n",
              "      cursor: pointer;\n",
              "      display: none;\n",
              "      fill: #1967D2;\n",
              "      height: 32px;\n",
              "      padding: 0 0 0 0;\n",
              "      width: 32px;\n",
              "    }\n",
              "\n",
              "    .colab-df-convert:hover {\n",
              "      background-color: #E2EBFA;\n",
              "      box-shadow: 0px 1px 2px rgba(60, 64, 67, 0.3), 0px 1px 3px 1px rgba(60, 64, 67, 0.15);\n",
              "      fill: #174EA6;\n",
              "    }\n",
              "\n",
              "    [theme=dark] .colab-df-convert {\n",
              "      background-color: #3B4455;\n",
              "      fill: #D2E3FC;\n",
              "    }\n",
              "\n",
              "    [theme=dark] .colab-df-convert:hover {\n",
              "      background-color: #434B5C;\n",
              "      box-shadow: 0px 1px 3px 1px rgba(0, 0, 0, 0.15);\n",
              "      filter: drop-shadow(0px 1px 2px rgba(0, 0, 0, 0.3));\n",
              "      fill: #FFFFFF;\n",
              "    }\n",
              "  </style>\n",
              "\n",
              "      <script>\n",
              "        const buttonEl =\n",
              "          document.querySelector('#df-d49f368b-0273-4b98-9ea1-91f8e3f8e193 button.colab-df-convert');\n",
              "        buttonEl.style.display =\n",
              "          google.colab.kernel.accessAllowed ? 'block' : 'none';\n",
              "\n",
              "        async function convertToInteractive(key) {\n",
              "          const element = document.querySelector('#df-d49f368b-0273-4b98-9ea1-91f8e3f8e193');\n",
              "          const dataTable =\n",
              "            await google.colab.kernel.invokeFunction('convertToInteractive',\n",
              "                                                     [key], {});\n",
              "          if (!dataTable) return;\n",
              "\n",
              "          const docLinkHtml = 'Like what you see? Visit the ' +\n",
              "            '<a target=\"_blank\" href=https://colab.research.google.com/notebooks/data_table.ipynb>data table notebook</a>'\n",
              "            + ' to learn more about interactive tables.';\n",
              "          element.innerHTML = '';\n",
              "          dataTable['output_type'] = 'display_data';\n",
              "          await google.colab.output.renderOutput(dataTable, element);\n",
              "          const docLink = document.createElement('div');\n",
              "          docLink.innerHTML = docLinkHtml;\n",
              "          element.appendChild(docLink);\n",
              "        }\n",
              "      </script>\n",
              "    </div>\n",
              "  </div>\n",
              "  "
            ]
          },
          "metadata": {},
          "execution_count": 63
        }
      ],
      "source": [
        "metrics = pd.DataFrame(model.history.history)\n",
        "metrics"
      ]
    },
    {
      "cell_type": "markdown",
      "id": "3d8554b2",
      "metadata": {
        "id": "3d8554b2"
      },
      "source": [
        "**Comparing our training and validation loss & accuracy:**\n",
        "\n",
        "Here we can see that the validation accuracy is very close to the training accuracy, indicating that the model is likely not overfitting. \n",
        "\n",
        "Additionally, the validation loss is decreasing over time, which is a good sign that the model is generalizing well.\n",
        "\n",
        "Moreover we have ensured early stopping & dropout mechanism to prevent overfitting."
      ]
    },
    {
      "cell_type": "code",
      "execution_count": 64,
      "id": "8cd2497f",
      "metadata": {
        "colab": {
          "base_uri": "https://localhost:8080/",
          "height": 295
        },
        "id": "8cd2497f",
        "outputId": "03b962c5-743c-490f-8f21-9592b8edadc7"
      },
      "outputs": [
        {
          "output_type": "display_data",
          "data": {
            "text/plain": [
              "<Figure size 432x288 with 1 Axes>"
            ],
            "image/png": "[encoded data removed]"
          },
          "metadata": {
            "needs_background": "light"
          }
        }
      ],
      "source": [
        "plt.plot(model.history.history['loss'])\n",
        "plt.plot(model.history.history['val_loss'])\n",
        "plt.title('Model loss')\n",
        "plt.ylabel('Loss')\n",
        "plt.xlabel('Epoch')\n",
        "plt.legend(['Train', 'Validation'], loc='best')\n",
        "plt.show()"
      ]
    },
    {
      "cell_type": "markdown",
      "id": "c0205e3c",
      "metadata": {
        "id": "c0205e3c"
      },
      "source": [
        "Here we can see that the train data and validation data are starting to level off at the epochs"
      ]
    },
    {
      "cell_type": "code",
      "execution_count": 65,
      "id": "c8e168f6",
      "metadata": {
        "colab": {
          "base_uri": "https://localhost:8080/",
          "height": 295
        },
        "id": "c8e168f6",
        "outputId": "a4d78fd0-3194-4337-fe9b-0e2ac6cedc52"
      },
      "outputs": [
        {
          "output_type": "display_data",
          "data": {
            "text/plain": [
              "<Figure size 432x288 with 1 Axes>"
            ],
            "image/png": "[encoded data removed]"
          },
          "metadata": {
            "needs_background": "light"
          }
        }
      ],
      "source": [
        "plt.plot(model.history.history['accuracy'], label='Training')\n",
        "plt.plot(model.history.history['val_accuracy'], label='Validation')\n",
        "plt.title('Model accuracy')\n",
        "plt.ylabel('Accuracy')\n",
        "plt.xlabel('Epoch')\n",
        "plt.legend()\n",
        "plt.show()"
      ]
    },
    {
      "cell_type": "markdown",
      "id": "7faf60e2",
      "metadata": {
        "id": "7faf60e2"
      },
      "source": [
        "#### Evaluating the model on test data"
      ]
    },
    {
      "cell_type": "code",
      "execution_count": 66,
      "id": "27bf04f4",
      "metadata": {
        "id": "27bf04f4"
      },
      "outputs": [],
      "source": [
        "score = model.evaluate(x_test,y_cat_test,verbose=0)"
      ]
    },
    {
      "cell_type": "code",
      "execution_count": 67,
      "id": "8408d9a8",
      "metadata": {
        "colab": {
          "base_uri": "https://localhost:8080/"
        },
        "id": "8408d9a8",
        "outputId": "862cb027-f2d4-4a89-fe2c-0f0f8e30c926"
      },
      "outputs": [
        {
          "output_type": "stream",
          "name": "stdout",
          "text": [
            "Test loss: 0.032020971179008484 / Test accuracy: 0.9902999997138977\n"
          ]
        }
      ],
      "source": [
        "print(f'Test loss: {score[0]} / Test accuracy: {score[1]}')"
      ]
    },
    {
      "cell_type": "markdown",
      "id": "39d08910",
      "metadata": {
        "id": "39d08910"
      },
      "source": [
        "#### Precision,Recall and F1-Score"
      ]
    },
    {
      "cell_type": "code",
      "execution_count": 68,
      "id": "eb2a7ce5",
      "metadata": {
        "colab": {
          "base_uri": "https://localhost:8080/"
        },
        "id": "eb2a7ce5",
        "outputId": "bb642840-e08b-4bf8-dd7d-5e98ad443bcc",
        "scrolled": true
      },
      "outputs": [
        {
          "output_type": "stream",
          "name": "stdout",
          "text": [
            "313/313 [==============================] - 1s 2ms/step\n",
            "              precision    recall  f1-score   support\n",
            "\n",
            "           0       0.99      1.00      1.00       980\n",
            "           1       0.99      1.00      0.99      1135\n",
            "           2       0.99      1.00      0.99      1032\n",
            "           3       0.98      1.00      0.99      1010\n",
            "           4       0.99      0.99      0.99       982\n",
            "           5       0.99      0.98      0.99       892\n",
            "           6       0.99      0.99      0.99       958\n",
            "           7       0.99      0.99      0.99      1028\n",
            "           8       0.99      0.98      0.99       974\n",
            "           9       0.99      0.97      0.98      1009\n",
            "\n",
            "    accuracy                           0.99     10000\n",
            "   macro avg       0.99      0.99      0.99     10000\n",
            "weighted avg       0.99      0.99      0.99     10000\n",
            "\n"
          ]
        }
      ],
      "source": [
        "from sklearn.metrics import classification_report\n",
        "\n",
        "# Get the predicted labels for the test set\n",
        "predictions = model.predict(x_test)\n",
        "# Convert the predictions to class labels\n",
        "y_pred_CNN = np.argmax(predictions, axis=1)\n",
        "\n",
        "# Print the classification report\n",
        "print(classification_report(y_test, y_pred_CNN))"
      ]
    },
    {
      "cell_type": "markdown",
      "id": "7f82cde7",
      "metadata": {
        "id": "7f82cde7"
      },
      "source": [
        "Here we can see all the classes has more that 97% precision, Recall and F1 Score. Also our model accuracy as 99%."
      ]
    },
    {
      "cell_type": "markdown",
      "id": "875b1860",
      "metadata": {
        "id": "875b1860"
      },
      "source": [
        "## Making Predictions"
      ]
    },
    {
      "cell_type": "markdown",
      "id": "ba7d470d",
      "metadata": {
        "id": "ba7d470d"
      },
      "source": [
        "### 1) We will Predict digits based on previous unseen images from our dataset"
      ]
    },
    {
      "cell_type": "code",
      "execution_count": 69,
      "id": "d3026800",
      "metadata": {
        "colab": {
          "base_uri": "https://localhost:8080/",
          "height": 193
        },
        "id": "d3026800",
        "outputId": "140595bf-43a2-47aa-89bd-e9dd7c5e65a3"
      },
      "outputs": [
        {
          "output_type": "display_data",
          "data": {
            "text/plain": [
              "<Figure size 864x432 with 4 Axes>"
            ],
            "image/png": "[encoded data removed]"
          },
          "metadata": {
            "needs_background": "light"
          }
        }
      ],
      "source": [
        "use_samples = [53, 38, 393, 273]\n",
        "\n",
        "samples_to_predict = []\n",
        "\n",
        "# Create a figure with 4 subplots in a 2x2 grid\n",
        "fig, axes = plt.subplots(nrows=1, ncols=4,figsize=(12,6))\n",
        "\n",
        "# Flatten the axes array so that we can iterate over it easily\n",
        "axes = axes.ravel()\n",
        "\n",
        "for i, sample in enumerate(use_samples):\n",
        "    axes[i].imshow(x_test[sample].reshape(28,28),cmap='gray')\n",
        "    axes[i].set_title(y_test[sample])\n",
        "    samples_to_predict.append(x_test[sample])\n",
        "plt.subplots_adjust(hspace=0.4, wspace=0.4)\n",
        "plt.show()"
      ]
    },
    {
      "cell_type": "code",
      "execution_count": 70,
      "id": "98f1c0d4",
      "metadata": {
        "id": "98f1c0d4"
      },
      "outputs": [],
      "source": [
        "samples_to_predict = np.array(samples_to_predict)"
      ]
    },
    {
      "cell_type": "code",
      "execution_count": 71,
      "id": "33a7d361",
      "metadata": {
        "colab": {
          "base_uri": "https://localhost:8080/"
        },
        "id": "33a7d361",
        "outputId": "77452432-fab7-4d69-8b6e-9eaf48792cc0"
      },
      "outputs": [
        {
          "output_type": "stream",
          "name": "stdout",
          "text": [
            "(4, 28, 28, 1)\n"
          ]
        }
      ],
      "source": [
        "print(samples_to_predict.shape)"
      ]
    },
    {
      "cell_type": "code",
      "execution_count": 72,
      "id": "8059ba42",
      "metadata": {
        "colab": {
          "base_uri": "https://localhost:8080/"
        },
        "id": "8059ba42",
        "outputId": "5a9fd6a0-cff0-47e4-d1e2-064a788bdb60"
      },
      "outputs": [
        {
          "output_type": "stream",
          "name": "stdout",
          "text": [
            "1/1 [==============================] - 0s 14ms/step\n",
            "[[5.75658721e-09 7.70060815e-09 9.82403568e-12 5.43245988e-05\n",
            "  1.01569162e-08 9.99933600e-01 1.38661855e-08 1.18316990e-09\n",
            "  3.05991136e-07 1.17909130e-05]\n",
            " [4.05606988e-06 8.67965718e-05 9.99908924e-01 2.07102224e-09\n",
            "  3.42903395e-09 8.08132866e-11 9.56848254e-08 1.86018653e-07\n",
            "  2.08936068e-09 1.59369018e-10]\n",
            " [2.36077802e-09 9.99998450e-01 1.15467396e-08 1.34157441e-09\n",
            "  1.30276294e-06 2.32889121e-08 9.55651114e-09 8.61686189e-08\n",
            "  6.81914836e-09 1.03003941e-07]\n",
            " [1.26587182e-07 1.25723174e-08 1.19629533e-08 4.25849549e-07\n",
            "  7.32782792e-06 5.17309695e-10 3.28052620e-11 5.07638015e-06\n",
            "  5.36303814e-05 9.99933362e-01]]\n"
          ]
        }
      ],
      "source": [
        "predictions = model.predict(samples_to_predict)\n",
        "print(predictions);"
      ]
    },
    {
      "cell_type": "code",
      "execution_count": 73,
      "id": "d35a8857",
      "metadata": {
        "colab": {
          "base_uri": "https://localhost:8080/"
        },
        "id": "d35a8857",
        "outputId": "d384ab5f-9918-4b20-937b-de261583869b",
        "scrolled": true
      },
      "outputs": [
        {
          "output_type": "stream",
          "name": "stdout",
          "text": [
            "Our model is predicting the numbers to be [5 2 1 9]\n"
          ]
        }
      ],
      "source": [
        "# Generate arg maxes for predictions\n",
        "classes = np.argmax(predictions, axis = 1)\n",
        "print(f\"Our model is predicting the numbers to be {classes}\")"
      ]
    },
    {
      "cell_type": "markdown",
      "id": "d41f4c29",
      "metadata": {
        "id": "d41f4c29"
      },
      "source": [
        "**Here our model correctly predicted all four previouly unseen images**"
      ]
    },
    {
      "cell_type": "markdown",
      "id": "fe8e0054",
      "metadata": {
        "id": "fe8e0054"
      },
      "source": [
        "### 2) We will Predict a digit based on image downloaded from internet"
      ]
    },
    {
      "cell_type": "code",
      "execution_count": 74,
      "id": "JEJe06-qHwS4",
      "metadata": {
        "id": "JEJe06-qHwS4"
      },
      "outputs": [],
      "source": [
        "from urllib.request import urlopen\n",
        "from PIL import Image\n",
        "\n",
        "url = \"https://i.postimg.cc/6pG37bWD/2.jpg\"\n",
        "with urlopen(url) as url:\n",
        "    with open(\"2.jpg\", \"wb\") as f:\n",
        "        f.write(url.read())\n",
        "\n",
        "img = Image.open(\"2.jpg\")\n",
        "\n",
        "# Converting to Greyscale\n",
        "img = img.convert('L')\n"
      ]
    },
    {
      "cell_type": "code",
      "execution_count": 75,
      "id": "lx5KpEeqTRtf",
      "metadata": {
        "colab": {
          "base_uri": "https://localhost:8080/",
          "height": 286
        },
        "id": "lx5KpEeqTRtf",
        "outputId": "47804658-40e8-4009-fb68-dd674d991dea"
      },
      "outputs": [
        {
          "output_type": "execute_result",
          "data": {
            "text/plain": [
              "<matplotlib.image.AxesImage at 0x7fe3dbcf5c40>"
            ]
          },
          "metadata": {},
          "execution_count": 75
        },
        {
          "output_type": "display_data",
          "data": {
            "text/plain": [
              "<Figure size 432x288 with 1 Axes>"
            ],
            "image/png": "[encoded data removed]"
          },
          "metadata": {
            "needs_background": "light"
          }
        }
      ],
      "source": [
        "plt.imshow(img)"
      ]
    },
    {
      "cell_type": "code",
      "execution_count": 76,
      "id": "vR5hfHCCTRk_",
      "metadata": {
        "colab": {
          "base_uri": "https://localhost:8080/"
        },
        "id": "vR5hfHCCTRk_",
        "outputId": "2a009fdf-f62b-4945-af43-cda42ffbdd58"
      },
      "outputs": [
        {
          "output_type": "stream",
          "name": "stdout",
          "text": [
            "1/1 [==============================] - 0s 17ms/step\n",
            "Our Trained Model is predicting the image as 2\n"
          ]
        }
      ],
      "source": [
        "#resize the image\n",
        "img = img.resize((28,28))\n",
        "#convert to numpy array and normalize the pixel values\n",
        "img_array = np.array(img)/255.0\n",
        "#expand the dimensions of the array\n",
        "img_array = np.expand_dims(img_array, axis=0)\n",
        "# reshaping our image as according to our train data\n",
        "img_array = img_array.reshape(1,28,28,1)\n",
        "\n",
        "# making prediction based on our trained model\n",
        "predictions = model.predict(img_array)\n",
        "pred = np.argmax(predictions, axis=1)\n",
        "\n",
        "print(f\"Our Trained Model is predicting the image as {pred[0]}\")"
      ]
    },
    {
      "cell_type": "markdown",
      "id": "82f3892d",
      "metadata": {
        "id": "82f3892d"
      },
      "source": [
        "**Here our model correctly predicted the random digit image from the internet 99% of the time**"
      ]
    },
    {
      "cell_type": "markdown",
      "id": "4f0dddd8",
      "metadata": {
        "id": "4f0dddd8"
      },
      "source": [
        "## Experimenting the MNIST Dataset with Support Vector Classifier Model"
      ]
    },
    {
      "cell_type": "code",
      "execution_count": 77,
      "id": "79003a9f",
      "metadata": {
        "colab": {
          "base_uri": "https://localhost:8080/"
        },
        "id": "79003a9f",
        "outputId": "4d60e179-cfc7-44e9-d96e-a21f63cda72f"
      },
      "outputs": [
        {
          "output_type": "stream",
          "name": "stdout",
          "text": [
            "Best parameters:  {'C': 10, 'kernel': 'rbf'}\n",
            "Best score:  0.9441997554870779\n",
            "Accuracy: 0.9606\n"
          ]
        }
      ],
      "source": [
        "import numpy as np\n",
        "from tensorflow.keras.datasets import mnist\n",
        "from sklearn.svm import SVC\n",
        "from sklearn.metrics import accuracy_score\n",
        "from sklearn.model_selection import GridSearchCV\n",
        "\n",
        "# Load the MNIST dataset\n",
        "(x_train, y_train), (x_test, y_test_SVM) = mnist.load_data()\n",
        "\n",
        "# Preprocess the data\n",
        "x_train = x_train.reshape(60000, 784)\n",
        "x_test = x_test.reshape(10000, 784)\n",
        "x_train = x_train.astype('float32') / 255\n",
        "x_test = x_test.astype('float32') / 255\n",
        "\n",
        "# Randomly pick 5000 images from the training set\n",
        "random_indices = np.random.choice(60000, 5000, replace=False)\n",
        "x_train = x_train[random_indices]\n",
        "y_train = y_train[random_indices]\n",
        "\n",
        "# Define the SVM model\n",
        "clf = SVC(kernel='linear', C=1)\n",
        "\n",
        "# Perform the grid search\n",
        "grid_search_SVM = GridSearchCV(clf, {'C': [0.1, 1, 10, 100],'kernel': ['linear', 'rbf']}, cv=3, n_jobs=-1)\n",
        "grid_search_SVM.fit(x_train, y_train)\n",
        "\n",
        "# Print the best parameters and the best score\n",
        "print(\"Best parameters: \", grid_search_SVM.best_params_)\n",
        "print(\"Best score: \", grid_search_SVM.best_score_)\n",
        "\n",
        "# Evaluate the model on the test set\n",
        "y_pred_SVM = grid_search_SVM.predict(x_test)\n",
        "accuracy = accuracy_score(y_test_SVM, y_pred_SVM)\n",
        "print('Accuracy:', accuracy)\n"
      ]
    },
    {
      "cell_type": "code",
      "execution_count": 78,
      "id": "b0309057",
      "metadata": {
        "colab": {
          "base_uri": "https://localhost:8080/"
        },
        "id": "b0309057",
        "outputId": "72d761fe-43c6-4699-983d-e561f6e6640e"
      },
      "outputs": [
        {
          "output_type": "stream",
          "name": "stdout",
          "text": [
            "              precision    recall  f1-score   support\n",
            "\n",
            "           0       0.97      0.99      0.98       980\n",
            "           1       0.97      0.99      0.98      1135\n",
            "           2       0.96      0.96      0.96      1032\n",
            "           3       0.96      0.94      0.95      1010\n",
            "           4       0.96      0.96      0.96       982\n",
            "           5       0.95      0.96      0.95       892\n",
            "           6       0.96      0.97      0.97       958\n",
            "           7       0.97      0.95      0.96      1028\n",
            "           8       0.96      0.95      0.95       974\n",
            "           9       0.95      0.94      0.95      1009\n",
            "\n",
            "    accuracy                           0.96     10000\n",
            "   macro avg       0.96      0.96      0.96     10000\n",
            "weighted avg       0.96      0.96      0.96     10000\n",
            "\n"
          ]
        }
      ],
      "source": [
        "from sklearn.metrics import classification_report\n",
        "print(classification_report(y_test_SVM, y_pred_SVM))"
      ]
    },
    {
      "cell_type": "code",
      "execution_count": 79,
      "id": "4-rQNqWpQ16R",
      "metadata": {
        "colab": {
          "base_uri": "https://localhost:8080/",
          "height": 193
        },
        "id": "4-rQNqWpQ16R",
        "outputId": "47b83ee1-1520-48e2-e4fe-076ad7b27c12"
      },
      "outputs": [
        {
          "output_type": "display_data",
          "data": {
            "text/plain": [
              "<Figure size 864x432 with 4 Axes>"
            ],
            "image/png": "[encoded data removed]"
          },
          "metadata": {
            "needs_background": "light"
          }
        }
      ],
      "source": [
        "use_samples = [53, 38, 393, 273]\n",
        "\n",
        "samples_to_predict = []\n",
        "\n",
        "# Create a figure with 4 subplots in a 2x2 grid\n",
        "fig, axes = plt.subplots(nrows=1, ncols=4,figsize=(12,6))\n",
        "\n",
        "# Flatten the axes array so that we can iterate over it easily\n",
        "axes = axes.ravel()\n",
        "\n",
        "for i, sample in enumerate(use_samples):\n",
        "    axes[i].imshow(x_test[sample].reshape(28,28), cmap='gray') # changed (1,784) to (28,28)\n",
        "    axes[i].set_title(\"True: {}\".format(y_test[sample])) # changed [sample] to y_test[sample]\n",
        "    samples_to_predict.append(x_test[sample].reshape(1, 784)) # changed x_test[sample] to x_test[sample].reshape(1, 784)\n",
        "plt.subplots_adjust(hspace=0.4, wspace=0.4)\n",
        "plt.show()\n"
      ]
    },
    {
      "cell_type": "code",
      "execution_count": 80,
      "id": "p8fWOpGSQ1u2",
      "metadata": {
        "colab": {
          "base_uri": "https://localhost:8080/"
        },
        "id": "p8fWOpGSQ1u2",
        "outputId": "841d5a95-0079-41e4-d023-aa332203fce6"
      },
      "outputs": [
        {
          "output_type": "stream",
          "name": "stdout",
          "text": [
            "[5 2 1 9]\n"
          ]
        }
      ],
      "source": [
        "samples_to_predict = np.array(samples_to_predict).reshape(len(use_samples), 784)\n",
        "predictions = grid_search_SVM.predict(samples_to_predict)\n",
        "print(predictions);"
      ]
    },
    {
      "cell_type": "markdown",
      "id": "6b250dcc",
      "metadata": {
        "id": "6b250dcc"
      },
      "source": [
        "## Experimenting the MNIST Dataset with K-Nearest Neighbor Classifier Model"
      ]
    },
    {
      "cell_type": "code",
      "execution_count": 81,
      "id": "dea47248",
      "metadata": {
        "colab": {
          "base_uri": "https://localhost:8080/"
        },
        "id": "dea47248",
        "outputId": "5b1bc306-b709-4923-c2f3-8182f19a774c"
      },
      "outputs": [
        {
          "output_type": "stream",
          "name": "stdout",
          "text": [
            "Best parameters:  {'n_neighbors': 3}\n",
            "Best score:  0.9190005936387754\n",
            "Accuracy: 0.9336\n"
          ]
        }
      ],
      "source": [
        "from sklearn.neighbors import KNeighborsClassifier\n",
        "\n",
        "# Load the MNIST dataset\n",
        "(x_train, y_train), (x_test, y_test_KNN) = mnist.load_data()\n",
        "\n",
        "# Preprocess the data\n",
        "x_train = x_train.reshape(60000, 784)\n",
        "x_test = x_test.reshape(10000, 784)\n",
        "x_train = x_train.astype('float32') / 255\n",
        "x_test = x_test.astype('float32') / 255\n",
        "\n",
        "# Randomly pick 5000 images from the training set\n",
        "random_indices = np.random.choice(60000, 5000, replace=False)\n",
        "x_train = x_train[random_indices]\n",
        "y_train = y_train[random_indices]\n",
        "\n",
        "# Define the KNN model\n",
        "clf = KNeighborsClassifier(n_neighbors=5)\n",
        "\n",
        "# Perform the grid search\n",
        "grid_search_KNN = GridSearchCV(clf, {'n_neighbors': [3, 5, 7, 9]}, cv=3, n_jobs=-1)\n",
        "grid_search_KNN.fit(x_train, y_train)\n",
        "\n",
        "# Print the best parameters and the best score\n",
        "print(\"Best parameters: \", grid_search_KNN.best_params_)\n",
        "print(\"Best score: \", grid_search_KNN.best_score_)\n",
        "\n",
        "# Evaluate the model on the test set\n",
        "y_pred_KNN = grid_search_KNN.predict(x_test)\n",
        "accuracy = accuracy_score(y_test_KNN, y_pred_KNN)\n",
        "print('Accuracy:', accuracy)\n"
      ]
    },
    {
      "cell_type": "code",
      "execution_count": 82,
      "id": "642998c3",
      "metadata": {
        "colab": {
          "base_uri": "https://localhost:8080/"
        },
        "id": "642998c3",
        "outputId": "147afcef-b395-4792-ea67-57a5e7d2e8bc"
      },
      "outputs": [
        {
          "output_type": "stream",
          "name": "stdout",
          "text": [
            "              precision    recall  f1-score   support\n",
            "\n",
            "           0       0.93      0.99      0.96       980\n",
            "           1       0.90      1.00      0.95      1135\n",
            "           2       0.96      0.91      0.93      1032\n",
            "           3       0.92      0.94      0.93      1010\n",
            "           4       0.93      0.91      0.92       982\n",
            "           5       0.93      0.93      0.93       892\n",
            "           6       0.97      0.97      0.97       958\n",
            "           7       0.93      0.93      0.93      1028\n",
            "           8       0.97      0.85      0.90       974\n",
            "           9       0.90      0.91      0.91      1009\n",
            "\n",
            "    accuracy                           0.93     10000\n",
            "   macro avg       0.94      0.93      0.93     10000\n",
            "weighted avg       0.93      0.93      0.93     10000\n",
            "\n"
          ]
        }
      ],
      "source": [
        "print(classification_report(y_test_KNN, y_pred_KNN))"
      ]
    },
    {
      "cell_type": "code",
      "execution_count": 83,
      "id": "S-o3ktAyOL3T",
      "metadata": {
        "colab": {
          "base_uri": "https://localhost:8080/",
          "height": 193
        },
        "id": "S-o3ktAyOL3T",
        "outputId": "c5af5b23-16f8-49c7-8bcf-c84b4c02ac7b"
      },
      "outputs": [
        {
          "output_type": "display_data",
          "data": {
            "text/plain": [
              "<Figure size 864x432 with 4 Axes>"
            ],
            "image/png": "[encoded data removed]"
          },
          "metadata": {
            "needs_background": "light"
          }
        }
      ],
      "source": [
        "use_samples = [53, 38, 393, 273]\n",
        "\n",
        "samples_to_predict = []\n",
        "\n",
        "# Create a figure with 4 subplots in a 2x2 grid\n",
        "fig, axes = plt.subplots(nrows=1, ncols=4,figsize=(12,6))\n",
        "\n",
        "# Flatten the axes array so that we can iterate over it easily\n",
        "axes = axes.ravel()\n",
        "\n",
        "for i, sample in enumerate(use_samples):\n",
        "    axes[i].imshow(x_test[sample].reshape(28,28), cmap='gray') # changed (1,784) to (28,28)\n",
        "    axes[i].set_title(\"True: {}\".format(y_test[sample])) # changed [sample] to y_test[sample]\n",
        "    samples_to_predict.append(x_test[sample].reshape(1, 784)) # changed x_test[sample] to x_test[sample].reshape(1, 784)\n",
        "plt.subplots_adjust(hspace=0.4, wspace=0.4)\n",
        "plt.show()\n"
      ]
    },
    {
      "cell_type": "code",
      "execution_count": 84,
      "id": "CdXvwRySOLzg",
      "metadata": {
        "colab": {
          "base_uri": "https://localhost:8080/"
        },
        "id": "CdXvwRySOLzg",
        "outputId": "6d2bbd95-3df0-41ee-e86c-254a65d38f9b"
      },
      "outputs": [
        {
          "output_type": "stream",
          "name": "stdout",
          "text": [
            "[5 3 1 9]\n"
          ]
        }
      ],
      "source": [
        "samples_to_predict = np.array(samples_to_predict).reshape(len(use_samples), 784)\n",
        "predictions = grid_search_KNN.predict(samples_to_predict)\n",
        "print(predictions);"
      ]
    },
    {
      "cell_type": "markdown",
      "id": "a061b557",
      "metadata": {
        "id": "a061b557"
      },
      "source": [
        "## Model Comparison Report"
      ]
    },
    {
      "cell_type": "markdown",
      "id": "W3okSxlrTDql",
      "metadata": {
        "id": "W3okSxlrTDql"
      },
      "source": [
        "For our MNIST handwritten digit classification dataset we have experimented with three different models like convoluted neural network (CNN), support vector classifier (SVC) and k-nearest neighbor (KNN) and we have found that CNN model outperforms other models. CNN model is giving us an accuracy score of 99% whereas other models like SVC and KNN are giving us around 96% and 94% respectively. Also CNN model correctly predicted previous unseen image data; but SVC and KNN were giving out incorrect predictions sometimes. We should look at the confusion matrix for all our models to better understand our findings"
      ]
    },
    {
      "cell_type": "code",
      "execution_count": 85,
      "id": "830ae872",
      "metadata": {
        "colab": {
          "base_uri": "https://localhost:8080/",
          "height": 369
        },
        "id": "830ae872",
        "outputId": "593d7921-4a58-4ff6-9afa-cd28d12390b9"
      },
      "outputs": [
        {
          "output_type": "display_data",
          "data": {
            "text/plain": [
              "<Figure size 1080x360 with 6 Axes>"
            ],
            "image/png": "[encoded data removed]"
          },
          "metadata": {
            "needs_background": "light"
          }
        }
      ],
      "source": [
        "import seaborn as sns\n",
        "from sklearn.metrics import confusion_matrix\n",
        "\n",
        "# Create the confusion matrices\n",
        "confusion_CNN = confusion_matrix(y_test, y_pred_CNN)\n",
        "confusion_SVM = confusion_matrix(y_test_SVM, y_pred_SVM)\n",
        "confusion_KNN = confusion_matrix(y_test_KNN, y_pred_KNN)\n",
        "\n",
        "# Plot the confusion matrices\n",
        "fig, (ax1, ax2, ax3) = plt.subplots(1, 3, figsize=(15,5))\n",
        "\n",
        "sns.heatmap(confusion_CNN, annot=True, fmt=\"d\", cmap=\"YlGnBu\", ax=ax1)\n",
        "ax1.set_xlabel(\"Predicted Label\")\n",
        "ax1.set_ylabel(\"True Label\")\n",
        "ax1.set_title(\"Confusion Matrix of CNN Model\")\n",
        "\n",
        "sns.heatmap(confusion_SVM, annot=True, fmt=\"d\", cmap=\"YlGnBu\", ax=ax2)\n",
        "ax2.set_xlabel(\"Predicted Label\")\n",
        "ax2.set_ylabel(\"True Label\")\n",
        "ax2.set_title(\"Confusion Matrix of SVM Model\")\n",
        "\n",
        "sns.heatmap(confusion_KNN, annot=True, fmt=\"d\", cmap=\"YlGnBu\", ax=ax3)\n",
        "ax3.set_xlabel(\"Predicted Label\")\n",
        "ax3.set_ylabel(\"True Label\")\n",
        "ax3.set_title(\"Confusion Matrix of KNN Model\")\n",
        "\n",
        "plt.tight_layout()\n",
        "plt.show()\n"
      ]
    },
    {
      "cell_type": "markdown",
      "id": "1d87a3dc",
      "metadata": {
        "id": "1d87a3dc"
      },
      "source": [
        "## Our FIndings"
      ]
    },
    {
      "cell_type": "markdown",
      "id": "9b42d7f3",
      "metadata": {
        "id": "9b42d7f3"
      },
      "source": [
        "In the above confusion matrixes, we can see that: \n",
        "\n",
        "1) CNN model is performing the best and it is less prone to errors. \n",
        "\n",
        "2) SVM Model performed well but it is having a hard time predicting the digit 3,4,7,9\n",
        "\n",
        "3) KNN model performed the worst out of the other two models as it is giving out false predictions for many times for various digits like 3,4,5,9 "
      ]
    },
    {
      "cell_type": "markdown",
      "id": "904bf811",
      "metadata": {
        "id": "904bf811"
      },
      "source": [
        "## Report on Challenges faced"
      ]
    },
    {
      "cell_type": "markdown",
      "id": "c284fd0c",
      "metadata": {
        "id": "c284fd0c"
      },
      "source": [
        "Here are some of the challenges we faced while doing this project:\n",
        "\n",
        "1) It is a big data set as such took a long time to train.\n",
        "\n",
        "2) Model was overfitting too much we had to take corrective measures frequently. We created a separate notebook where we down-sized the training and testing data by 5,000 images so that we can experiment on the hyperparameters, then after getting satisfatory results we fitted the same hyperparameter with our original notebook which had all 60,000 images.\n",
        "\n",
        "3) Using our CNN model we wanted to predict a completely unseen handwritten image from the internet, however getting the image in jupyter notebook/collab was a challenge. took long time to fix this issue. We have hosted the image of digit in postimg.cc and from there we are pulling it in our notebook.\n"
      ]
    }
  ],
  "metadata": {
    "accelerator": "GPU",
    "colab": {
      "provenance": [],
      "include_colab_link": true
    },
    "gpuClass": "standard",
    "kernelspec": {
      "display_name": "Python 3 (ipykernel)",
      "language": "python",
      "name": "python3"
    },
    "language_info": {
      "codemirror_mode": {
        "name": "ipython",
        "version": 3
      },
      "file_extension": ".py",
      "mimetype": "text/x-python",
      "name": "python",
      "nbconvert_exporter": "python",
      "pygments_lexer": "ipython3",
      "version": "3.9.7"
    }
  },
  "nbformat": 4,
  "nbformat_minor": 5
}